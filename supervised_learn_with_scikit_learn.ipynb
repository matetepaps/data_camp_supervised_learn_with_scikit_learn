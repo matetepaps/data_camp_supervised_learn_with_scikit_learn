{
 "cells": [
  {
   "cell_type": "markdown",
   "id": "c8c1d12b",
   "metadata": {},
   "source": [
    "# Supervised Learning with scikit-learn"
   ]
  },
  {
   "cell_type": "markdown",
   "id": "7bc37b34",
   "metadata": {},
   "source": [
    "## 1. Classification"
   ]
  },
  {
   "cell_type": "markdown",
   "id": "4858c4a4",
   "metadata": {},
   "source": [
    "### i. Machine learning with scikit-learn"
   ]
  },
  {
   "cell_type": "code",
   "execution_count": 1,
   "id": "eca4a567",
   "metadata": {},
   "outputs": [],
   "source": [
    "#importing all the \n",
    "\n",
    "import numpy as np\n",
    "import pandas as pd\n",
    "import matplotlib.pyplot as plt\n",
    "import seaborn as sns"
   ]
  },
  {
   "cell_type": "code",
   "execution_count": 2,
   "id": "fdde6d58",
   "metadata": {},
   "outputs": [],
   "source": [
    "#importing data set\n",
    "\n",
    "churn_df = pd.read_csv('telecom_churn_clean.csv')\n",
    "music_df = pd.read_csv('music_clean.csv')\n",
    "diabetes_df = pd.read_csv('diabetes_clean.csv')\n",
    "sales_df = pd.read_csv('advertising_and_sales_clean.csv')"
   ]
  },
  {
   "cell_type": "code",
   "execution_count": 3,
   "id": "131e3d2b",
   "metadata": {},
   "outputs": [
    {
     "data": {
      "text/plain": [
       "1    500\n",
       "0    500\n",
       "Name: genre, dtype: int64"
      ]
     },
     "execution_count": 3,
     "metadata": {},
     "output_type": "execute_result"
    }
   ],
   "source": [
    "music_df.genre.value_counts()"
   ]
  },
  {
   "cell_type": "code",
   "execution_count": 4,
   "id": "6109db04",
   "metadata": {
    "scrolled": true
   },
   "outputs": [
    {
     "data": {
      "text/html": [
       "<div>\n",
       "<style scoped>\n",
       "    .dataframe tbody tr th:only-of-type {\n",
       "        vertical-align: middle;\n",
       "    }\n",
       "\n",
       "    .dataframe tbody tr th {\n",
       "        vertical-align: top;\n",
       "    }\n",
       "\n",
       "    .dataframe thead th {\n",
       "        text-align: right;\n",
       "    }\n",
       "</style>\n",
       "<table border=\"1\" class=\"dataframe\">\n",
       "  <thead>\n",
       "    <tr style=\"text-align: right;\">\n",
       "      <th></th>\n",
       "      <th>Unnamed: 0</th>\n",
       "      <th>account_length</th>\n",
       "      <th>area_code</th>\n",
       "      <th>international_plan</th>\n",
       "      <th>voice_mail_plan</th>\n",
       "      <th>number_vmail_messages</th>\n",
       "      <th>total_day_minutes</th>\n",
       "      <th>total_day_calls</th>\n",
       "      <th>total_day_charge</th>\n",
       "      <th>total_eve_minutes</th>\n",
       "      <th>total_eve_calls</th>\n",
       "      <th>total_eve_charge</th>\n",
       "      <th>total_night_minutes</th>\n",
       "      <th>total_night_calls</th>\n",
       "      <th>total_night_charge</th>\n",
       "      <th>total_intl_minutes</th>\n",
       "      <th>total_intl_calls</th>\n",
       "      <th>total_intl_charge</th>\n",
       "      <th>customer_service_calls</th>\n",
       "      <th>churn</th>\n",
       "    </tr>\n",
       "  </thead>\n",
       "  <tbody>\n",
       "    <tr>\n",
       "      <th>0</th>\n",
       "      <td>0</td>\n",
       "      <td>128</td>\n",
       "      <td>415</td>\n",
       "      <td>0</td>\n",
       "      <td>1</td>\n",
       "      <td>25</td>\n",
       "      <td>265.1</td>\n",
       "      <td>110</td>\n",
       "      <td>45.07</td>\n",
       "      <td>197.4</td>\n",
       "      <td>99</td>\n",
       "      <td>16.78</td>\n",
       "      <td>244.7</td>\n",
       "      <td>91</td>\n",
       "      <td>11.01</td>\n",
       "      <td>10.0</td>\n",
       "      <td>3</td>\n",
       "      <td>2.70</td>\n",
       "      <td>1</td>\n",
       "      <td>0</td>\n",
       "    </tr>\n",
       "    <tr>\n",
       "      <th>1</th>\n",
       "      <td>1</td>\n",
       "      <td>107</td>\n",
       "      <td>415</td>\n",
       "      <td>0</td>\n",
       "      <td>1</td>\n",
       "      <td>26</td>\n",
       "      <td>161.6</td>\n",
       "      <td>123</td>\n",
       "      <td>27.47</td>\n",
       "      <td>195.5</td>\n",
       "      <td>103</td>\n",
       "      <td>16.62</td>\n",
       "      <td>254.4</td>\n",
       "      <td>103</td>\n",
       "      <td>11.45</td>\n",
       "      <td>13.7</td>\n",
       "      <td>3</td>\n",
       "      <td>3.70</td>\n",
       "      <td>1</td>\n",
       "      <td>0</td>\n",
       "    </tr>\n",
       "    <tr>\n",
       "      <th>2</th>\n",
       "      <td>2</td>\n",
       "      <td>137</td>\n",
       "      <td>415</td>\n",
       "      <td>0</td>\n",
       "      <td>0</td>\n",
       "      <td>0</td>\n",
       "      <td>243.4</td>\n",
       "      <td>114</td>\n",
       "      <td>41.38</td>\n",
       "      <td>121.2</td>\n",
       "      <td>110</td>\n",
       "      <td>10.30</td>\n",
       "      <td>162.6</td>\n",
       "      <td>104</td>\n",
       "      <td>7.32</td>\n",
       "      <td>12.2</td>\n",
       "      <td>5</td>\n",
       "      <td>3.29</td>\n",
       "      <td>0</td>\n",
       "      <td>0</td>\n",
       "    </tr>\n",
       "    <tr>\n",
       "      <th>3</th>\n",
       "      <td>3</td>\n",
       "      <td>84</td>\n",
       "      <td>408</td>\n",
       "      <td>1</td>\n",
       "      <td>0</td>\n",
       "      <td>0</td>\n",
       "      <td>299.4</td>\n",
       "      <td>71</td>\n",
       "      <td>50.90</td>\n",
       "      <td>61.9</td>\n",
       "      <td>88</td>\n",
       "      <td>5.26</td>\n",
       "      <td>196.9</td>\n",
       "      <td>89</td>\n",
       "      <td>8.86</td>\n",
       "      <td>6.6</td>\n",
       "      <td>7</td>\n",
       "      <td>1.78</td>\n",
       "      <td>2</td>\n",
       "      <td>0</td>\n",
       "    </tr>\n",
       "    <tr>\n",
       "      <th>4</th>\n",
       "      <td>4</td>\n",
       "      <td>75</td>\n",
       "      <td>415</td>\n",
       "      <td>1</td>\n",
       "      <td>0</td>\n",
       "      <td>0</td>\n",
       "      <td>166.7</td>\n",
       "      <td>113</td>\n",
       "      <td>28.34</td>\n",
       "      <td>148.3</td>\n",
       "      <td>122</td>\n",
       "      <td>12.61</td>\n",
       "      <td>186.9</td>\n",
       "      <td>121</td>\n",
       "      <td>8.41</td>\n",
       "      <td>10.1</td>\n",
       "      <td>3</td>\n",
       "      <td>2.73</td>\n",
       "      <td>3</td>\n",
       "      <td>0</td>\n",
       "    </tr>\n",
       "  </tbody>\n",
       "</table>\n",
       "</div>"
      ],
      "text/plain": [
       "   Unnamed: 0  account_length  area_code  international_plan  voice_mail_plan  \\\n",
       "0           0             128        415                   0                1   \n",
       "1           1             107        415                   0                1   \n",
       "2           2             137        415                   0                0   \n",
       "3           3              84        408                   1                0   \n",
       "4           4              75        415                   1                0   \n",
       "\n",
       "   number_vmail_messages  total_day_minutes  total_day_calls  \\\n",
       "0                     25              265.1              110   \n",
       "1                     26              161.6              123   \n",
       "2                      0              243.4              114   \n",
       "3                      0              299.4               71   \n",
       "4                      0              166.7              113   \n",
       "\n",
       "   total_day_charge  total_eve_minutes  total_eve_calls  total_eve_charge  \\\n",
       "0             45.07              197.4               99             16.78   \n",
       "1             27.47              195.5              103             16.62   \n",
       "2             41.38              121.2              110             10.30   \n",
       "3             50.90               61.9               88              5.26   \n",
       "4             28.34              148.3              122             12.61   \n",
       "\n",
       "   total_night_minutes  total_night_calls  total_night_charge  \\\n",
       "0                244.7                 91               11.01   \n",
       "1                254.4                103               11.45   \n",
       "2                162.6                104                7.32   \n",
       "3                196.9                 89                8.86   \n",
       "4                186.9                121                8.41   \n",
       "\n",
       "   total_intl_minutes  total_intl_calls  total_intl_charge  \\\n",
       "0                10.0                 3               2.70   \n",
       "1                13.7                 3               3.70   \n",
       "2                12.2                 5               3.29   \n",
       "3                 6.6                 7               1.78   \n",
       "4                10.1                 3               2.73   \n",
       "\n",
       "   customer_service_calls  churn  \n",
       "0                       1      0  \n",
       "1                       1      0  \n",
       "2                       0      0  \n",
       "3                       2      0  \n",
       "4                       3      0  "
      ]
     },
     "execution_count": 4,
     "metadata": {},
     "output_type": "execute_result"
    }
   ],
   "source": [
    "churn_df.head()"
   ]
  },
  {
   "cell_type": "code",
   "execution_count": 5,
   "id": "dec8dd4a",
   "metadata": {},
   "outputs": [
    {
     "data": {
      "text/plain": [
       "0    2850\n",
       "1     483\n",
       "Name: churn, dtype: int64"
      ]
     },
     "execution_count": 5,
     "metadata": {},
     "output_type": "execute_result"
    }
   ],
   "source": [
    "churn_df.churn.value_counts()"
   ]
  },
  {
   "cell_type": "markdown",
   "id": "478d21e2",
   "metadata": {},
   "source": [
    "#### Binary classification\n",
    "In the video, you saw that there are two types of supervised learning — classification and regression. Recall that binary classification is used to predict a target variable that has only two labels, typically represented numerically with a **zero** or a **one.**\n",
    "\n",
    "A dataset, churn_df, has been preloaded for you in the console.\n",
    "\n",
    "Your task is to examine the data and choose which column could be the target variable for binary classification.\n",
    "\n",
    "Ans: `\"churn\"`"
   ]
  },
  {
   "cell_type": "markdown",
   "id": "426bdb0c",
   "metadata": {},
   "source": [
    "> Correct! churn has values of 0 or 1, so it can be predicted using a binary classification model."
   ]
  },
  {
   "cell_type": "markdown",
   "id": "5f80e255",
   "metadata": {},
   "source": [
    "#### The supervised learning workflow\n",
    "Recall that scikit-learn offers a repeatable workflow for using supervised learning models to predict the target variable values when presented with new data.\n",
    "\n",
    "Reorder the pseudo-code provided so it accurately represents the workflow of building a supervised learning model and making predictions.\n",
    "\n",
    "\n",
    "1. `from sklearn.module import Model`\n",
    "2. `model = Model()`\n",
    "3. `model.fit(X, y)`\n",
    "4. `model.predict(X_new)`"
   ]
  },
  {
   "cell_type": "markdown",
   "id": "28e2128e",
   "metadata": {},
   "source": [
    "### ii. The classification challenge"
   ]
  },
  {
   "cell_type": "markdown",
   "id": "51caefd5",
   "metadata": {},
   "source": [
    "#### k-Nearest Neighbors: Fit\n",
    "In this exercise, you will build your first classification model using the churn_df dataset, which has been preloaded for the remainder of the chapter.\n",
    "\n",
    "The features to use will be \"account_length\" and \"customer_service_calls\". The target, \"churn\", needs to be a single column with the same number of observations as the feature data.\n",
    "\n",
    "You will convert the features and the target variable into NumPy arrays, create an instance of a KNN classifier, and then fit it to the data.\n",
    "\n",
    "numpy has also been preloaded for you as np."
   ]
  },
  {
   "cell_type": "markdown",
   "id": "f2ab1dc1",
   "metadata": {},
   "source": [
    "- Import KNeighborsClassifier from sklearn.neighbors.\n",
    "- Create an array called X containing values from the \"account_length\" and \"customer_service_calls\" columns, and an array called y for the values of the \"churn\" column.\n",
    "- Instantiate a KNeighborsClassifier called knn with 6 neighbors.\n",
    "- Fit the classifier to the data using the .fit() method."
   ]
  },
  {
   "cell_type": "code",
   "execution_count": 6,
   "id": "2c710209",
   "metadata": {},
   "outputs": [
    {
     "data": {
      "text/html": [
       "<style>#sk-container-id-1 {color: black;background-color: white;}#sk-container-id-1 pre{padding: 0;}#sk-container-id-1 div.sk-toggleable {background-color: white;}#sk-container-id-1 label.sk-toggleable__label {cursor: pointer;display: block;width: 100%;margin-bottom: 0;padding: 0.3em;box-sizing: border-box;text-align: center;}#sk-container-id-1 label.sk-toggleable__label-arrow:before {content: \"▸\";float: left;margin-right: 0.25em;color: #696969;}#sk-container-id-1 label.sk-toggleable__label-arrow:hover:before {color: black;}#sk-container-id-1 div.sk-estimator:hover label.sk-toggleable__label-arrow:before {color: black;}#sk-container-id-1 div.sk-toggleable__content {max-height: 0;max-width: 0;overflow: hidden;text-align: left;background-color: #f0f8ff;}#sk-container-id-1 div.sk-toggleable__content pre {margin: 0.2em;color: black;border-radius: 0.25em;background-color: #f0f8ff;}#sk-container-id-1 input.sk-toggleable__control:checked~div.sk-toggleable__content {max-height: 200px;max-width: 100%;overflow: auto;}#sk-container-id-1 input.sk-toggleable__control:checked~label.sk-toggleable__label-arrow:before {content: \"▾\";}#sk-container-id-1 div.sk-estimator input.sk-toggleable__control:checked~label.sk-toggleable__label {background-color: #d4ebff;}#sk-container-id-1 div.sk-label input.sk-toggleable__control:checked~label.sk-toggleable__label {background-color: #d4ebff;}#sk-container-id-1 input.sk-hidden--visually {border: 0;clip: rect(1px 1px 1px 1px);clip: rect(1px, 1px, 1px, 1px);height: 1px;margin: -1px;overflow: hidden;padding: 0;position: absolute;width: 1px;}#sk-container-id-1 div.sk-estimator {font-family: monospace;background-color: #f0f8ff;border: 1px dotted black;border-radius: 0.25em;box-sizing: border-box;margin-bottom: 0.5em;}#sk-container-id-1 div.sk-estimator:hover {background-color: #d4ebff;}#sk-container-id-1 div.sk-parallel-item::after {content: \"\";width: 100%;border-bottom: 1px solid gray;flex-grow: 1;}#sk-container-id-1 div.sk-label:hover label.sk-toggleable__label {background-color: #d4ebff;}#sk-container-id-1 div.sk-serial::before {content: \"\";position: absolute;border-left: 1px solid gray;box-sizing: border-box;top: 0;bottom: 0;left: 50%;z-index: 0;}#sk-container-id-1 div.sk-serial {display: flex;flex-direction: column;align-items: center;background-color: white;padding-right: 0.2em;padding-left: 0.2em;position: relative;}#sk-container-id-1 div.sk-item {position: relative;z-index: 1;}#sk-container-id-1 div.sk-parallel {display: flex;align-items: stretch;justify-content: center;background-color: white;position: relative;}#sk-container-id-1 div.sk-item::before, #sk-container-id-1 div.sk-parallel-item::before {content: \"\";position: absolute;border-left: 1px solid gray;box-sizing: border-box;top: 0;bottom: 0;left: 50%;z-index: -1;}#sk-container-id-1 div.sk-parallel-item {display: flex;flex-direction: column;z-index: 1;position: relative;background-color: white;}#sk-container-id-1 div.sk-parallel-item:first-child::after {align-self: flex-end;width: 50%;}#sk-container-id-1 div.sk-parallel-item:last-child::after {align-self: flex-start;width: 50%;}#sk-container-id-1 div.sk-parallel-item:only-child::after {width: 0;}#sk-container-id-1 div.sk-dashed-wrapped {border: 1px dashed gray;margin: 0 0.4em 0.5em 0.4em;box-sizing: border-box;padding-bottom: 0.4em;background-color: white;}#sk-container-id-1 div.sk-label label {font-family: monospace;font-weight: bold;display: inline-block;line-height: 1.2em;}#sk-container-id-1 div.sk-label-container {text-align: center;}#sk-container-id-1 div.sk-container {/* jupyter's `normalize.less` sets `[hidden] { display: none; }` but bootstrap.min.css set `[hidden] { display: none !important; }` so we also need the `!important` here to be able to override the default hidden behavior on the sphinx rendered scikit-learn.org. See: https://github.com/scikit-learn/scikit-learn/issues/21755 */display: inline-block !important;position: relative;}#sk-container-id-1 div.sk-text-repr-fallback {display: none;}</style><div id=\"sk-container-id-1\" class=\"sk-top-container\"><div class=\"sk-text-repr-fallback\"><pre>KNeighborsClassifier(n_neighbors=6)</pre><b>In a Jupyter environment, please rerun this cell to show the HTML representation or trust the notebook. <br />On GitHub, the HTML representation is unable to render, please try loading this page with nbviewer.org.</b></div><div class=\"sk-container\" hidden><div class=\"sk-item\"><div class=\"sk-estimator sk-toggleable\"><input class=\"sk-toggleable__control sk-hidden--visually\" id=\"sk-estimator-id-1\" type=\"checkbox\" checked><label for=\"sk-estimator-id-1\" class=\"sk-toggleable__label sk-toggleable__label-arrow\">KNeighborsClassifier</label><div class=\"sk-toggleable__content\"><pre>KNeighborsClassifier(n_neighbors=6)</pre></div></div></div></div></div>"
      ],
      "text/plain": [
       "KNeighborsClassifier(n_neighbors=6)"
      ]
     },
     "execution_count": 6,
     "metadata": {},
     "output_type": "execute_result"
    }
   ],
   "source": [
    "# Import KNeighborsClassifier\n",
    "from sklearn.neighbors import KNeighborsClassifier \n",
    "\n",
    "# Create arrays for the features and the target variable\n",
    "y = churn_df[\"churn\"].values\n",
    "X = churn_df[[\"account_length\", \"customer_service_calls\"]].values\n",
    "\n",
    "# Create a KNN classifier with 6 neighbors\n",
    "knn = KNeighborsClassifier(n_neighbors = 6)\n",
    "\n",
    "# Fit the classifier to the data\n",
    "knn.fit(X, y)"
   ]
  },
  {
   "cell_type": "markdown",
   "id": "b7951bac",
   "metadata": {},
   "source": [
    "> Excellent! Now that your KNN classifier has been fit to the data, it can be used to predict the labels of new data points."
   ]
  },
  {
   "cell_type": "markdown",
   "id": "f49c6901",
   "metadata": {},
   "source": [
    "#### k-Nearest Neighbors: Predict\n",
    "Now you have fit a KNN classifier, you can use it to predict the label of new data points. All available data was used for training, however, fortunately, there are new observations available. These have been preloaded for you as X_new.\n",
    "\n",
    "The model knn, which you created and fit the data in the last exercise, has been preloaded for you. You will use your classifier to predict the labels of a set of new data points:\n",
    "\n",
    "X_new = np.array([[30.0, 17.5],\n",
    "                  [107.0, 24.1],\n",
    "                  [213.0, 10.9]])"
   ]
  },
  {
   "cell_type": "code",
   "execution_count": 7,
   "id": "0868e243",
   "metadata": {},
   "outputs": [],
   "source": [
    "X_new = np.array([[30.0, 17.5],\n",
    "                  [107.0, 24.1],\n",
    "                  [213.0, 10.9]])"
   ]
  },
  {
   "cell_type": "markdown",
   "id": "0f973de4",
   "metadata": {},
   "source": [
    "- Create y_pred by predicting the target values of the unseen features X_new.\n",
    "- Print the predicted labels for the set of predictions."
   ]
  },
  {
   "cell_type": "code",
   "execution_count": 8,
   "id": "dbd2f00e",
   "metadata": {},
   "outputs": [
    {
     "name": "stdout",
     "output_type": "stream",
     "text": [
      "Predictions: [0 1 0]\n"
     ]
    }
   ],
   "source": [
    "# Predict the labels for the X_new\n",
    "y_pred = knn.predict(X_new)\n",
    "\n",
    "# Print the predictions for X_new\n",
    "print(\"Predictions: {}\".format(y_pred)) "
   ]
  },
  {
   "cell_type": "markdown",
   "id": "6538e60b",
   "metadata": {},
   "source": [
    "> Great work! The model has predicted the first and third customers will not churn in the new array. But how do we know how accurate these predictions are? Let's explore how to measure a model's performance in the next video."
   ]
  },
  {
   "cell_type": "markdown",
   "id": "92a740fd",
   "metadata": {},
   "source": [
    "### iii. Measuring model performance"
   ]
  },
  {
   "cell_type": "markdown",
   "id": "3ad50d25",
   "metadata": {},
   "source": [
    "#### Train/test split + computing accuracy\n",
    "Now that you have learned about the importance of splitting your data into training and test sets, it's time to practice doing this on the churn_df dataset!\n",
    "\n",
    "NumPy arrays have been created for you containing the features as X and the target variable as y. You will split them into training and test sets, fit a KNN classifier to the training data, and then compute its accuracy on the test data using the .score() method."
   ]
  },
  {
   "cell_type": "markdown",
   "id": "7a14f3ec",
   "metadata": {},
   "source": [
    "- Import train_test_split from sklearn.model_selection.\n",
    "- Split X and y into training and test sets, setting test_size equal to 20%, random_state to 42, and ensuring the target label proportions reflect that of the original dataset.\n",
    "- Fit the knn model to the training data.\n",
    "- Compute and print the model's accuracy for the test data."
   ]
  },
  {
   "cell_type": "code",
   "execution_count": 9,
   "id": "2a0713d0",
   "metadata": {},
   "outputs": [
    {
     "name": "stdout",
     "output_type": "stream",
     "text": [
      "0.8545727136431784\n"
     ]
    }
   ],
   "source": [
    "# Import the module\n",
    "from sklearn.model_selection import train_test_split\n",
    "from sklearn.neighbors import KNeighborsClassifier\n",
    "\n",
    "X = churn_df.drop(\"churn\", axis=1).values\n",
    "y = churn_df[\"churn\"].values\n",
    "\n",
    "# Split into training and test sets\n",
    "X_train, X_test, y_train, y_test = train_test_split(X, y, test_size=0.2, random_state=42, stratify=y)\n",
    "\n",
    "# Initialize the KNeighborsClassifier\n",
    "knn = KNeighborsClassifier(n_neighbors=5)\n",
    "\n",
    "# Fit the classifier to the training data\n",
    "knn.fit(X_train, y_train)\n",
    "\n",
    "# Print the accuracy\n",
    "print(knn.score(X_test, y_test))"
   ]
  },
  {
   "cell_type": "markdown",
   "id": "e54d2da0",
   "metadata": {},
   "source": [
    "> Excellent! In a few lines of code you split a dataset, fit a KNN model, and found its accuracy to be 87%!"
   ]
  },
  {
   "cell_type": "markdown",
   "id": "ff219978",
   "metadata": {},
   "source": [
    "#### Overfitting and underfitting\n",
    "Interpreting model complexity is a great way to evaluate performance when utilizing supervised learning. Your aim is to produce a model that can interpret the relationship between features and the target variable, as well as generalize well when exposed to new observations.\n",
    "\n",
    "You will generate accuracy scores for the training and test sets using a KNN classifier with different n_neighbor values, which you will plot in the next exercise.\n",
    "\n",
    "The training and test sets have been created from the churn_df dataset and preloaded as X_train, X_test, y_train, and y_test.\n",
    "\n",
    "In addition, KNeighborsClassifier has been imported for you along with numpy as np."
   ]
  },
  {
   "cell_type": "markdown",
   "id": "34906645",
   "metadata": {},
   "source": [
    "- Create neighbors as a numpy array of values from 1 up to and including 12.\n",
    "- Instantiate a KNN classifier, with the number of neighbors equal to the neighbor iterator.\n",
    "- Fit the model to the training data.\n",
    "- Calculate accuracy scores for the training set and test set separately using the .score() method, and assign the results to the index of the train_accuracies and test_accuracies dictionaries, respectively.\n"
   ]
  },
  {
   "cell_type": "code",
   "execution_count": 10,
   "id": "e497f9ac",
   "metadata": {},
   "outputs": [
    {
     "name": "stdout",
     "output_type": "stream",
     "text": [
      "[ 1  2  3  4  5  6  7  8  9 10 11 12] \n",
      " {1: 1.0, 2: 0.8885971492873218, 3: 0.8994748687171793, 4: 0.8750937734433608, 5: 0.878469617404351, 6: 0.8660915228807202, 7: 0.8705926481620405, 8: 0.8615903975993998, 9: 0.86384096024006, 10: 0.858589647411853, 11: 0.8604651162790697, 12: 0.8574643660915229} \n",
      " {1: 0.7856071964017991, 2: 0.8470764617691154, 3: 0.8320839580209896, 4: 0.856071964017991, 5: 0.8545727136431784, 6: 0.8590704647676162, 7: 0.8605697151424287, 8: 0.8620689655172413, 9: 0.863568215892054, 10: 0.8605697151424287, 11: 0.8605697151424287, 12: 0.8605697151424287}\n"
     ]
    }
   ],
   "source": [
    "# Create neighbors\n",
    "neighbors = np.arange(1,13)\n",
    "train_accuracies = {}\n",
    "test_accuracies = {}\n",
    "\n",
    "for neighbor in neighbors:\n",
    "  \n",
    "\t# Set up a KNN Classifier\n",
    "\tknn = KNeighborsClassifier(n_neighbors=neighbor)\n",
    "  \n",
    "\t# Fit the model\n",
    "\tknn.fit(X_train, y_train)\n",
    "  \n",
    "\t# Compute accuracy\n",
    "\ttrain_accuracies[neighbor] = knn.score(X_train, y_train)\n",
    "\ttest_accuracies[neighbor] = knn.score(X_test, y_test)\n",
    "print(neighbors, '\\n', train_accuracies, '\\n', test_accuracies)"
   ]
  },
  {
   "cell_type": "markdown",
   "id": "8dfc5a9b",
   "metadata": {},
   "source": [
    "> Notice how training accuracy decreases as the number of neighbors initially gets larger, and vice versa for the testing accuracy? These scores would be much easier to interpret in a line plot, so let's produce a model complexity curve of these results."
   ]
  },
  {
   "cell_type": "markdown",
   "id": "f4bec5bf",
   "metadata": {},
   "source": [
    "#### Visualizing model complexity\n",
    "Now you have calculated the accuracy of the KNN model on the training and test sets using various values of n_neighbors, you can create a model complexity curve to visualize how performance changes as the model becomes less complex!\n",
    "\n",
    "The variables neighbors, train_accuracies, and test_accuracies, which you generated in the previous exercise, have all been preloaded for you. You will plot the results to aid in finding the optimal number of neighbors for your model."
   ]
  },
  {
   "cell_type": "markdown",
   "id": "56abb24d",
   "metadata": {},
   "source": [
    "- Add a title \"KNN: Varying Number of Neighbors\".\n",
    "- Plot the .values() method of train_accuracies on the y-axis against neighbors on the x-axis, with a label of \"Training Accuracy\".\n",
    "- Plot the .values() method of test_accuracies on the y-axis against neighbors on the x-axis, with a label of \"Testing Accuracy\".\n",
    "- Display the plot."
   ]
  },
  {
   "cell_type": "code",
   "execution_count": 11,
   "id": "b0b158f2",
   "metadata": {},
   "outputs": [
    {
     "data": {
      "image/png": "[encoded data removed]",
      "text/plain": [
       "<Figure size 640x480 with 1 Axes>"
      ]
     },
     "metadata": {},
     "output_type": "display_data"
    }
   ],
   "source": [
    "# Add a title\n",
    "plt.title(\"KNN: Varying Number of Neighbors\")\n",
    "\n",
    "# Plot training accuracies\n",
    "plt.plot(neighbors, train_accuracies.values(), label=\"Training Accuracy\")\n",
    "\n",
    "# Plot test accuracies\n",
    "plt.plot(neighbors, test_accuracies.values(), label=\"Testing Accuracy\")\n",
    "\n",
    "plt.legend()\n",
    "plt.xlabel(\"Number of Neighbors\")\n",
    "plt.ylabel(\"Accuracy\")\n",
    "\n",
    "# Display the plot\n",
    "plt.show()"
   ]
  },
  {
   "cell_type": "markdown",
   "id": "e537721e",
   "metadata": {},
   "source": [
    "> Great work! See how training accuracy decreases and test accuracy increases as the number of neighbors gets larger. For the test set, accuracy peaks with 7 neighbors, suggesting it is the optimal value for our model. Now let's explore regression models!"
   ]
  },
  {
   "cell_type": "markdown",
   "id": "d49151e2",
   "metadata": {},
   "source": [
    "## 2. Regression"
   ]
  },
  {
   "cell_type": "markdown",
   "id": "3b44606d",
   "metadata": {},
   "source": [
    "### i.Introduction to regression"
   ]
  },
  {
   "cell_type": "markdown",
   "id": "30da2555",
   "metadata": {},
   "source": [
    "#### Creating features\n",
    "In this chapter, you will work with a dataset called sales_df, which contains information on advertising campaign expenditure across different media types, and the number of dollars generated in sales for the respective campaign. The dataset has been preloaded for you. Here are the first two rows:\n",
    "\n",
    "     tv        radio      social_media    sales\n",
    "     \n",
    "1    13000.0   9237.76    2409.57         46677.90\n",
    "\n",
    "2    41000.0   15886.45   2913.41         150177.83\n",
    "\n",
    "You will use the advertising expenditure as features to predict sales values, initially working with the \"radio\" column. However, before you make any predictions you will need to create the feature and target arrays, reshaping them to the correct format for scikit-learn."
   ]
  },
  {
   "cell_type": "markdown",
   "id": "61de7a81",
   "metadata": {},
   "source": [
    "- Create X, an array of the values from the sales_df DataFrame's \"radio\" column.\n",
    "- Create y, an array of the values from the sales_df DataFrame's \"sales\" column.\n",
    "- Reshape X into a two-dimensional NumPy array.\n",
    "- Print the shape of X and y."
   ]
  },
  {
   "cell_type": "code",
   "execution_count": 12,
   "id": "83224c08",
   "metadata": {},
   "outputs": [
    {
     "name": "stdout",
     "output_type": "stream",
     "text": [
      "(4546, 1) (4546,)\n"
     ]
    }
   ],
   "source": [
    "import numpy as np\n",
    "\n",
    "# Create X from the radio column's values\n",
    "X = sales_df.radio.values\n",
    "\n",
    "# Create y from the sales column's values\n",
    "y = sales_df.sales.values\n",
    "\n",
    "# Reshape X\n",
    "X = X.reshape(-1, 1)\n",
    "\n",
    "# Check the shape of the features and targets\n",
    "print(X.shape, y.shape)"
   ]
  },
  {
   "cell_type": "markdown",
   "id": "909da36c",
   "metadata": {},
   "source": [
    "> Excellent! See that there are 4546 values in both arrays? Now let's build a linear regression model!"
   ]
  },
  {
   "cell_type": "markdown",
   "id": "2cc114cc",
   "metadata": {},
   "source": [
    "#### Building a linear regression model\n",
    "Now you have created your feature and target arrays, you will train a linear regression model on all feature and target values.\n",
    "\n",
    "As the goal is to assess the relationship between the feature and target values there is no need to split the data into training and test sets.\n",
    "\n",
    "X and y have been preloaded for you as follows:\n",
    "\n",
    "`y = sales_df[\"sales\"].values*`\n",
    "\n",
    "`X = sales_df[\"radio\"].values.reshape(-1, 1)`"
   ]
  },
  {
   "cell_type": "markdown",
   "id": "46642538",
   "metadata": {},
   "source": [
    "- Import LinearRegression.\n",
    "- Instantiate a linear regression model.\n",
    "- Predict sales values using X, storing as predictions."
   ]
  },
  {
   "cell_type": "code",
   "execution_count": 13,
   "id": "2e570e1e",
   "metadata": {},
   "outputs": [
    {
     "name": "stdout",
     "output_type": "stream",
     "text": [
      "[ 95491.17119147 117829.51038393 173423.38071499 291603.11444202\n",
      " 111137.28167129]\n"
     ]
    }
   ],
   "source": [
    "# Import LinearRegression\n",
    "from sklearn.linear_model import LinearRegression\n",
    "\n",
    "# Create the model\n",
    "reg = LinearRegression()\n",
    "\n",
    "# Fit the model to the data\n",
    "reg.fit(X,y)\n",
    "\n",
    "# Make predictions\n",
    "predictions = reg.predict(X)\n",
    "\n",
    "print(predictions[:5])"
   ]
  },
  {
   "cell_type": "markdown",
   "id": "87c9e625",
   "metadata": {},
   "source": [
    "> Great model building! See how sales values for the first five predictions range from $95,000 to over $290,000. Let's visualize the model's fit."
   ]
  },
  {
   "cell_type": "markdown",
   "id": "b5d3ed0b",
   "metadata": {},
   "source": [
    "#### Visualizing a linear regression model\n",
    "Now you have built your linear regression model and trained it using all available observations, you can visualize how well the model fits the data. This allows you to interpret the relationship between radio advertising expenditure and sales values.\n",
    "\n",
    "The variables X, an array of radio values, y, an array of sales values, and predictions, an array of the model's predicted values for y given X, have all been preloaded for you from the previous exercise."
   ]
  },
  {
   "cell_type": "markdown",
   "id": "e815f44a",
   "metadata": {},
   "source": [
    "- Import matplotlib.pyplot as plt.\n",
    "- Create a scatter plot visualizing y against X, with observations in blue.\n",
    "- Draw a red line plot displaying the predictions against X.\n",
    "- Display the plot."
   ]
  },
  {
   "cell_type": "code",
   "execution_count": 14,
   "id": "723f0940",
   "metadata": {},
   "outputs": [
    {
     "data": {
      "image/png": "[encoded data removed]",
      "text/plain": [
       "<Figure size 640x480 with 1 Axes>"
      ]
     },
     "metadata": {},
     "output_type": "display_data"
    }
   ],
   "source": [
    "# Import matplotlib.pyplot\n",
    "import matplotlib.pyplot as plt\n",
    "\n",
    "# Create scatter plot\n",
    "plt.scatter(X, y, color=\"blue\")\n",
    "\n",
    "# Create line plot\n",
    "plt.plot(X, predictions, color=\"red\")\n",
    "plt.xlabel(\"Radio Expenditure ($)\")\n",
    "plt.ylabel(\"Sales ($)\")\n",
    "\n",
    "# Display the plot\n",
    "plt.show()"
   ]
  },
  {
   "cell_type": "markdown",
   "id": "faee4965",
   "metadata": {},
   "source": [
    "> The model nicely captures a near-perfect linear correlation between radio advertising expenditure and sales! Now let's take a look at what is going on under the hood to calculate this relationship."
   ]
  },
  {
   "cell_type": "markdown",
   "id": "7b859502",
   "metadata": {},
   "source": [
    "### ii. The basics of linear regression"
   ]
  },
  {
   "cell_type": "markdown",
   "id": "f3974da7",
   "metadata": {},
   "source": [
    "#### Fit and predict for regression\n",
    "Now you have seen how linear regression works, your task is to create a multiple linear regression model using all of the features in the sales_df dataset, which has been preloaded for you. As a reminder, here are the first two rows:\n",
    "\n",
    "     tv        radio      social_media    sales\n",
    "1    13000.0   9237.76    2409.57         46677.90\n",
    "2    41000.0   15886.45   2913.41         150177.83\n",
    "You will then use this model to predict sales based on the values of the test features.\n",
    "\n",
    "LinearRegression and train_test_split have been preloaded for you from their respective modules."
   ]
  },
  {
   "cell_type": "markdown",
   "id": "56483c48",
   "metadata": {},
   "source": [
    "- Create X, an array containing values of all features in sales_df, and y, containing all values from the \"sales\" column.\n",
    "- Instantiate a linear regression model.\n",
    "- Fit the model to the training data.\n",
    "- Create y_pred, making predictions for sales using the test features."
   ]
  },
  {
   "cell_type": "code",
   "execution_count": 15,
   "id": "0b564563",
   "metadata": {},
   "outputs": [
    {
     "name": "stdout",
     "output_type": "stream",
     "text": [
      "Predictions: [53135.43066453 71060.6004603 ], Actual Values: [55261.28 67574.9 ]\n"
     ]
    }
   ],
   "source": [
    "import pandas as pd\n",
    "from sklearn.model_selection import train_test_split\n",
    "from sklearn.linear_model import LinearRegression\n",
    "\n",
    "# Assuming sales_df contains both numeric and categorical columns\n",
    "# Apply one-hot encoding to convert categorical variables to numeric\n",
    "sales_df = pd.get_dummies(sales_df)\n",
    "\n",
    "# Create X and y arrays\n",
    "X = sales_df.drop(\"sales\", axis=1).values\n",
    "y = sales_df[\"sales\"].values\n",
    "\n",
    "# Split the data into training and testing sets\n",
    "X_train, X_test, y_train, y_test = train_test_split(X, y, test_size=0.3, random_state=42)\n",
    "\n",
    "# Instantiate the model\n",
    "reg = LinearRegression()\n",
    "\n",
    "# Fit the model to the data\n",
    "reg.fit(X_train, y_train)\n",
    "\n",
    "# Make predictions\n",
    "y_pred = reg.predict(X_test)\n",
    "print(\"Predictions: {}, Actual Values: {}\".format(y_pred[:2], y_test[:2]))\n"
   ]
  },
  {
   "cell_type": "markdown",
   "id": "dafa6596",
   "metadata": {},
   "source": [
    "> Great work! The first two predictions appear to be within around 5% of the actual values from the test set!"
   ]
  },
  {
   "cell_type": "markdown",
   "id": "8d3ef63f",
   "metadata": {},
   "source": [
    "#### Regression performance\n",
    "Now you have fit a model, reg, using all features from sales_df, and made predictions of sales values, you can evaluate performance using some common regression metrics.\n",
    "\n",
    "The variables X_train, X_test, y_train, y_test, and y_pred, along with the fitted model, reg, all from the last exercise, have been preloaded for you.\n",
    "\n",
    "Your task is to find out how well the features can explain the variance in the target values, along with assessing the model's ability to make predictions on unseen data."
   ]
  },
  {
   "cell_type": "markdown",
   "id": "705bbe75",
   "metadata": {},
   "source": [
    "- Import mean_squared_error.\n",
    "- Calculate the model's R-squared score by passing the test feature values and the test target values to an appropriate method.\n",
    "- Calculate the model's root mean squared error using y_test and y_pred.\n",
    "- Print r_squared and rmse.\n"
   ]
  },
  {
   "cell_type": "code",
   "execution_count": 16,
   "id": "30152434",
   "metadata": {},
   "outputs": [
    {
     "name": "stdout",
     "output_type": "stream",
     "text": [
      "R^2: 0.9990150033349248\n",
      "RMSE: 2944.7428499310217\n"
     ]
    }
   ],
   "source": [
    "# Import mean_squared_error\n",
    "from sklearn.metrics import mean_squared_error\n",
    "\n",
    "# Compute R-squared\n",
    "r_squared = reg.score(X_test, y_test)\n",
    "\n",
    "# Compute RMSE\n",
    "rmse = mean_squared_error(y_test, y_pred, squared=False)\n",
    "\n",
    "# Print the metrics\n",
    "print(\"R^2: {}\".format(r_squared))\n",
    "print(\"RMSE: {}\".format(rmse))"
   ]
  },
  {
   "cell_type": "markdown",
   "id": "2db59c88",
   "metadata": {},
   "source": [
    "> Wow, the features explain 99.9% of the variance in sales values! Looks like this company's advertising strategy is working well!"
   ]
  },
  {
   "cell_type": "markdown",
   "id": "6e0b841f",
   "metadata": {},
   "source": [
    "### iii. Cross-validation"
   ]
  },
  {
   "cell_type": "markdown",
   "id": "868e8809",
   "metadata": {},
   "source": [
    "#### Cross-validation for R-squared\n",
    "Cross-validation is a vital approach to evaluating a model. It maximizes the amount of data that is available to the model, as the model is not only trained but also tested on all of the available data.\n",
    "\n",
    "In this exercise, you will build a linear regression model, then use 6-fold cross-validation to assess its accuracy for predicting sales using social media advertising expenditure. You will display the individual score for each of the six-folds.\n",
    "\n",
    "The sales_df dataset has been split into y for the target variable, and X for the features, and preloaded for you. LinearRegression has been imported from sklearn.linear_model."
   ]
  },
  {
   "cell_type": "markdown",
   "id": "49c50a27",
   "metadata": {},
   "source": [
    "- Import KFold and cross_val_score.\n",
    "- Create kf by calling KFold(), setting the number of splits to six, shuffle to True, and setting a seed of 5.\n",
    "- Perform cross-validation using reg on X and y, passing kf to cv.\n",
    "- Print the cv_scores."
   ]
  },
  {
   "cell_type": "code",
   "execution_count": 17,
   "id": "7a3c1bfe",
   "metadata": {},
   "outputs": [
    {
     "name": "stdout",
     "output_type": "stream",
     "text": [
      "[0.99893896 0.99909078 0.99900929 0.99896318 0.99889195 0.99903855]\n"
     ]
    }
   ],
   "source": [
    "# Import the necessary modules\n",
    "from sklearn.model_selection import cross_val_score, KFold\n",
    "\n",
    "# Create a KFold object\n",
    "kf = KFold(n_splits=6, shuffle=True, random_state=5)\n",
    "\n",
    "reg = LinearRegression()\n",
    "\n",
    "# Compute 6-fold cross-validation scores\n",
    "cv_scores = cross_val_score(reg, X, y, cv=kf)\n",
    "\n",
    "# Print scores\n",
    "print(cv_scores)"
   ]
  },
  {
   "cell_type": "markdown",
   "id": "62f1066d",
   "metadata": {},
   "source": [
    "> Notice how R-squared for each fold ranged between 0.998 and 0.999? By using cross-validation, we can see how performance varies depending on how the data is split!"
   ]
  },
  {
   "cell_type": "markdown",
   "id": "64296172",
   "metadata": {},
   "source": [
    "#### Analyzing cross-validation metrics\n",
    "Now you have performed cross-validation, it's time to analyze the results.\n",
    "\n",
    "You will display the mean, standard deviation, and 95% confidence interval for cv_results, which has been preloaded for you from the previous exercise.\n",
    "\n",
    "numpy has been imported for you as np."
   ]
  },
  {
   "cell_type": "markdown",
   "id": "88a10b62",
   "metadata": {},
   "source": [
    "- Calculate and print the mean of the results.\n",
    "- Calculate and print the standard deviation of cv_results.\n",
    "- Display the 95% confidence interval for your results using np.quantile()"
   ]
  },
  {
   "cell_type": "code",
   "execution_count": 18,
   "id": "d4926444",
   "metadata": {},
   "outputs": [
    {
     "name": "stdout",
     "output_type": "stream",
     "text": [
      "0.9989887858587477\n",
      "6.559306063470636e-05\n",
      "[0.99889783 0.99908425]\n"
     ]
    }
   ],
   "source": [
    "# Print the mean\n",
    "print(np.mean(cv_scores))\n",
    "\n",
    "# Print the standard deviation\n",
    "print(np.std(cv_scores))\n",
    "\n",
    "# Print the 95% confidence interval\n",
    "print(np.quantile(cv_scores, [0.025, 0.975]))"
   ]
  },
  {
   "cell_type": "markdown",
   "id": "e8c1c868",
   "metadata": {},
   "source": [
    "> An average score of 0.99 with a low standard deviation is pretty good for a model out of the box! Now let's learn how to apply regularization to our regression models."
   ]
  },
  {
   "cell_type": "markdown",
   "id": "d976cad8",
   "metadata": {},
   "source": [
    "### iv. Regularized regression"
   ]
  },
  {
   "cell_type": "markdown",
   "id": "11b5d297",
   "metadata": {},
   "source": [
    "#### Regularized regression: Ridge\n",
    "Ridge regression performs regularization by computing the squared values of the model parameters multiplied by alpha and adding them to the loss function.\n",
    "\n",
    "In this exercise, you will fit ridge regression models over a range of different alpha values, and print their \n",
    "$R^2$\n",
    " scores. You will use all of the features in the sales_df dataset to predict \"sales\". The data has been split into X_train, X_test, y_train, y_test for you.\n",
    "\n",
    "A variable called alphas has been provided as a list containing different alpha values, which you will loop through to generate scores."
   ]
  },
  {
   "cell_type": "markdown",
   "id": "fda2b170",
   "metadata": {},
   "source": [
    "- Import Ridge.\n",
    "- Instantiate Ridge, setting alpha equal to alpha.\n",
    "- Fit the model to the training data.\n",
    "- Calculate the $R^2$ score for each iteration of ridge."
   ]
  },
  {
   "cell_type": "code",
   "execution_count": 19,
   "id": "e4534602",
   "metadata": {},
   "outputs": [
    {
     "name": "stdout",
     "output_type": "stream",
     "text": [
      "[0.9990150033934493, 0.9990150039191462, 0.9990150090764297, 0.9990150521414333, 0.999015182881188, 0.9990152130441597]\n"
     ]
    }
   ],
   "source": [
    "# Import Ridge\n",
    "from sklearn.linear_model import Ridge\n",
    "alphas = [0.1, 1.0, 10.0, 100.0, 1000.0, 10000.0]\n",
    "ridge_scores = []\n",
    "for alpha in alphas:\n",
    "  \n",
    "  # Create a Ridge regression model\n",
    "  ridge = Ridge(alpha=alpha)\n",
    "  \n",
    "  # Fit the data\n",
    "  ridge.fit(X_train, y_train)\n",
    "  \n",
    "  # Obtain R-squared\n",
    "  score = ridge.score(X_test, y_test)\n",
    "  ridge_scores.append(score)\n",
    "print(ridge_scores)"
   ]
  },
  {
   "cell_type": "markdown",
   "id": "e9491904",
   "metadata": {},
   "source": [
    "> Well done! The scores don't appear to change much as alpha increases, which is indicative of how well the features explain the variance in the target—even by heavily penalizing large coefficients, underfitting does not occur!"
   ]
  },
  {
   "cell_type": "code",
   "execution_count": 20,
   "id": "57deda3a",
   "metadata": {},
   "outputs": [
    {
     "name": "stdout",
     "output_type": "stream",
     "text": [
      "           tv     radio  social_media      sales\n",
      "0     16000.0   6566.23       2908.98   54732.76\n",
      "1     13000.0   9237.76       2410.57   46677.90\n",
      "2     41000.0  15886.45       2914.41  150177.83\n",
      "3     83000.0  30020.03       6923.30  298246.34\n",
      "4     15000.0   8437.41       1407.00   56594.18\n",
      "...       ...       ...           ...        ...\n",
      "4541  26000.0   4472.36        718.09   94685.87\n",
      "4542  71000.0  20610.69       6546.57  249101.92\n",
      "4543  44000.0  19800.07       5097.19  163631.46\n",
      "4544  71000.0  17534.64       1941.87  253610.41\n",
      "4545  42000.0  15966.69       5047.55  148202.41\n",
      "\n",
      "[4546 rows x 4 columns]\n"
     ]
    }
   ],
   "source": [
    "import pandas as pd\n",
    "\n",
    "# sales_df contains the DataFrame with columns 'tv', 'radio', 'social_media', 'influencer_Macro', 'influencer_Mega', 'influencer_Micro', and 'influencer_Nano'\n",
    "# You can concatenate the 'influencer' columns with the 'social_media' column\n",
    "\n",
    "# Create a list of columns to concatenate\n",
    "influencer_columns = ['influencer_Macro', 'influencer_Mega', 'influencer_Micro', 'influencer_Nano']\n",
    "\n",
    "# Concatenate the columns along axis=1\n",
    "sales_df['social_media'] = sales_df[['social_media'] + influencer_columns].sum(axis=1)\n",
    "\n",
    "# Drop the individual 'influencer' columns\n",
    "sales_df.drop(columns=influencer_columns, inplace=True)\n",
    "\n",
    "# Print the updated DataFrame\n",
    "print(sales_df)"
   ]
  },
  {
   "cell_type": "code",
   "execution_count": 21,
   "id": "f313cffb",
   "metadata": {},
   "outputs": [],
   "source": [
    "from sklearn.linear_model import Lasso\n",
    "\n",
    "X = sales_df.drop(\"sales\", axis=1).values\n",
    "y = sales_df[\"sales\"].values\n",
    "\n",
    "sales_columns = sales_df.drop(\"sales\", axis=1).columns\n"
   ]
  },
  {
   "cell_type": "markdown",
   "id": "ffae9c62",
   "metadata": {},
   "source": [
    "#### Lasso regression for feature importance\n",
    "In the video, you saw how lasso regression can be used to identify important features in a dataset.\n",
    "\n",
    "In this exercise, you will fit a lasso regression model to the sales_df data and plot the model's coefficients.\n",
    "\n",
    "The feature and target variable arrays have been pre-loaded as X and y, along with sales_columns, which contains the dataset's feature names."
   ]
  },
  {
   "cell_type": "markdown",
   "id": "644cf7cd",
   "metadata": {},
   "source": [
    "- Import Lasso from sklearn.linear_model.\n",
    "- Instantiate a Lasso regressor with an alpha of 0.3.\n",
    "-  Fit the model to the data.\n",
    "- Compute the model's coefficients, storing as lasso_coef."
   ]
  },
  {
   "cell_type": "code",
   "execution_count": 22,
   "id": "08f73180",
   "metadata": {},
   "outputs": [
    {
     "name": "stdout",
     "output_type": "stream",
     "text": [
      "[ 3.56256962 -0.00397035  0.00496385]\n"
     ]
    },
    {
     "data": {
      "image/png": "[encoded data removed]",
      "text/plain": [
       "<Figure size 640x480 with 1 Axes>"
      ]
     },
     "metadata": {},
     "output_type": "display_data"
    }
   ],
   "source": [
    "# Import Lasso\n",
    "from sklearn.linear_model import Lasso\n",
    "\n",
    "# Instantiate a lasso regression model\n",
    "lasso = Lasso(alpha=0.3)\n",
    "\n",
    "# Fit the model to the data\n",
    "lasso.fit(X, y)\n",
    "\n",
    "# Compute and print the coefficients\n",
    "lasso_coef = lasso.fit(X, y).coef_\n",
    "print(lasso_coef)\n",
    "plt.bar(sales_columns, lasso_coef)\n",
    "plt.xticks(rotation=45)\n",
    "plt.show()"
   ]
  },
  {
   "cell_type": "markdown",
   "id": "6d1523db",
   "metadata": {},
   "source": [
    "> See how the figure makes it clear that expenditure on TV advertising is the most important feature in the dataset to predict sales values! In the next chapter, we will learn how to further assess and improve our model's performance!"
   ]
  },
  {
   "cell_type": "markdown",
   "id": "f0b414ff",
   "metadata": {},
   "source": [
    "## 3. Fine-Tuning Your Model"
   ]
  },
  {
   "cell_type": "markdown",
   "id": "aabaa703",
   "metadata": {},
   "source": [
    "### i. How good is your model?"
   ]
  },
  {
   "cell_type": "markdown",
   "id": "6a51dcc9",
   "metadata": {},
   "source": [
    "#### Deciding on a primary metric\n",
    "As you have seen, several metrics can be useful to evaluate the performance of classification models, including accuracy, precision, recall, and F1-score.\n",
    "\n",
    "In this exercise, you will be provided with three different classification problems, and your task is to select the problem where **precision** is best suited as the primary metric.\n",
    "\n",
    "Ans: `A model predicting if a customer is a high-value lead for a sales team with limited capacity`"
   ]
  },
  {
   "cell_type": "markdown",
   "id": "084c9148",
   "metadata": {},
   "source": [
    "> Correct! With limited capacity, the sales team needs the model to return the highest proportion of true positives compared to all predicted positives, thus minimizing wasted effort."
   ]
  },
  {
   "cell_type": "markdown",
   "id": "ac104e9d",
   "metadata": {},
   "source": [
    "#### Assessing a diabetes prediction classifier\n",
    "In this chapter you'll work with the diabetes_df dataset introduced previously.\n",
    "\n",
    "The goal is to predict whether or not each individual is likely to have diabetes based on the features body mass index (BMI) and age (in years). Therefore, it is a binary classification problem. A target value of 0 indicates that the individual does not have diabetes, while a value of 1 indicates that the individual does have diabetes.\n",
    "\n",
    "diabetes_df has been preloaded for you as a pandas DataFrame and split into X_train, X_test, y_train, and y_test. In addition, a KNeighborsClassifier() has been instantiated and assigned to knn.\n",
    "\n",
    "You will fit the model, make predictions on the test set, then produce a confusion matrix and classification report."
   ]
  },
  {
   "cell_type": "markdown",
   "id": "65f3961c",
   "metadata": {},
   "source": [
    "- Import confusion_matrix and classification_report.\n",
    "- Fit the model to the training data.\n",
    "- Predict the labels of the test set, storing the results as y_pred.\n",
    "- Compute and print the confusion matrix and classification report for the test labels versus the predicted labels."
   ]
  },
  {
   "cell_type": "code",
   "execution_count": 23,
   "id": "662419dc",
   "metadata": {},
   "outputs": [
    {
     "name": "stdout",
     "output_type": "stream",
     "text": [
      "              precision    recall  f1-score   support\n",
      "\n",
      "           0       0.71      0.77      0.74       151\n",
      "           1       0.49      0.41      0.45        80\n",
      "\n",
      "    accuracy                           0.65       231\n",
      "   macro avg       0.60      0.59      0.60       231\n",
      "weighted avg       0.64      0.65      0.64       231\n",
      "\n",
      "[[117  34]\n",
      " [ 47  33]]\n"
     ]
    }
   ],
   "source": [
    "# Import confusion matrix\n",
    "from sklearn.model_selection import train_test_split\n",
    "from sklearn.neighbors import KNeighborsClassifier\n",
    "from sklearn.metrics import classification_report, confusion_matrix\n",
    "\n",
    "diabetes_copy_df = diabetes_df.copy()\n",
    "\n",
    "# Select only the \"bmi\" and \"age\" columns\n",
    "X = diabetes_copy_df[[\"bmi\", \"age\"]].values\n",
    "\n",
    "y = diabetes_copy_df[\"diabetes\"].values\n",
    "\n",
    "# Split into training and test sets without stratified sampling\n",
    "X_train, X_test, y_train, y_test = train_test_split(X, y, test_size=0.3, random_state=42)\n",
    "\n",
    "knn = KNeighborsClassifier(n_neighbors=6)\n",
    "\n",
    "# Fit the model to the training data\n",
    "knn.fit(X_train, y_train)\n",
    "\n",
    "# Predict the labels of the test data: y_pred\n",
    "y_pred = knn.predict(X_test)\n",
    "\n",
    "# Generate the confusion matrix and classification report\n",
    "print(classification_report(y_test, y_pred))\n",
    "print(confusion_matrix(y_test, y_pred))\n"
   ]
  },
  {
   "cell_type": "markdown",
   "id": "6d628d8e",
   "metadata": {},
   "source": [
    "> Excellent! The model produced 33 true positives and 34 false positives, meaning precision was less than 50%, which is confirmed in the classification report. The output also shows a better F1-score for the zero class, which represents individuals who do not have diabetes."
   ]
  },
  {
   "cell_type": "markdown",
   "id": "1e1c27dd",
   "metadata": {},
   "source": [
    "### ii. Logistic regression and the ROC curve"
   ]
  },
  {
   "cell_type": "markdown",
   "id": "c9a848a5",
   "metadata": {},
   "source": [
    "#### Building a logistic regression model\n",
    "In this exercise, you will build a logistic regression model using all features in the diabetes_df dataset. The model will be used to predict the probability of individuals in the test set having a diabetes diagnosis.\n",
    "\n",
    "The diabetes_df dataset has been split into X_train, X_test, y_train, and y_test, and preloaded for you."
   ]
  },
  {
   "cell_type": "markdown",
   "id": "00f216d5",
   "metadata": {},
   "source": [
    "- Import LogisticRegression.\n",
    "- Instantiate a logistic regression model, logreg.\n",
    "- Fit the model to the training data.\n",
    "- Predict the probabilities of each individual in the test set having a diabetes diagnosis, storing the array of positive probabilities as y_pred_probs."
   ]
  },
  {
   "cell_type": "code",
   "execution_count": 24,
   "id": "92a196fc",
   "metadata": {},
   "outputs": [
    {
     "name": "stdout",
     "output_type": "stream",
     "text": [
      "(537, 8) (537,)\n"
     ]
    }
   ],
   "source": [
    "X = diabetes_df.drop(['diabetes'], axis=1).values\n",
    "y = diabetes_df[\"diabetes\"].values\n",
    "\n",
    "X_train, X_test, y_train, y_test = train_test_split(X, y, test_size=0.3, random_state=42)\n",
    "print(X_train.shape, y_train.shape)"
   ]
  },
  {
   "cell_type": "code",
   "execution_count": 25,
   "id": "eccd059d",
   "metadata": {},
   "outputs": [
    {
     "name": "stdout",
     "output_type": "stream",
     "text": [
      "[0.26551021 0.18336638 0.1211966  0.15613521 0.4961118  0.4458219\n",
      " 0.01359249 0.61646093 0.55640529 0.79311776]\n"
     ]
    },
    {
     "name": "stderr",
     "output_type": "stream",
     "text": [
      "/Users/CHRIS/anaconda3/lib/python3.11/site-packages/sklearn/linear_model/_logistic.py:458: ConvergenceWarning: lbfgs failed to converge (status=1):\n",
      "STOP: TOTAL NO. of ITERATIONS REACHED LIMIT.\n",
      "\n",
      "Increase the number of iterations (max_iter) or scale the data as shown in:\n",
      "    https://scikit-learn.org/stable/modules/preprocessing.html\n",
      "Please also refer to the documentation for alternative solver options:\n",
      "    https://scikit-learn.org/stable/modules/linear_model.html#logistic-regression\n",
      "  n_iter_i = _check_optimize_result(\n"
     ]
    }
   ],
   "source": [
    "# Import LogisticRegression\n",
    "from sklearn.linear_model import LogisticRegression\n",
    "\n",
    "# Instantiate the model\n",
    "logreg = LogisticRegression()\n",
    "\n",
    "# Fit the model\n",
    "logreg.fit(X_train, y_train)\n",
    "\n",
    "# Predict probabilities\n",
    "y_pred = logreg.predict(X_test)\n",
    "y_pred_probs = logreg.predict_proba(X_test)[:, 1]\n",
    "\n",
    "print(y_pred_probs[:10])"
   ]
  },
  {
   "cell_type": "markdown",
   "id": "114ca5de",
   "metadata": {},
   "source": [
    "> Nicely done! Notice how the probability of a diabetes diagnosis for the first 10 individuals in the test set ranges from 0.01 to 0.79. Now let's plot the ROC curve to visualize performance using different thresholds.\n",
    "\n"
   ]
  },
  {
   "cell_type": "markdown",
   "id": "0ac8ce9c",
   "metadata": {},
   "source": [
    "#### The ROC curve\n",
    "Now you have built a logistic regression model for predicting diabetes status, you can plot the ROC curve to visualize how the true positive rate and false positive rate vary as the decision threshold changes.\n",
    "\n",
    "The test labels, y_test, and the predicted probabilities of the test features belonging to the positive class, y_pred_probs, have been preloaded for you, along with matplotlib.pyplot as plt.\n",
    "\n",
    "You will create a ROC curve and then interpret the results."
   ]
  },
  {
   "cell_type": "markdown",
   "id": "e753650e",
   "metadata": {},
   "source": [
    "- Import roc_curve.\n",
    "- Calculate the ROC curve values, using y_test and y_pred_probs, and unpacking the results into fpr, tpr, and thresholds.\n",
    "- Plot true positive rate against false positive rate."
   ]
  },
  {
   "cell_type": "code",
   "execution_count": 26,
   "id": "90797dfd",
   "metadata": {},
   "outputs": [
    {
     "data": {
      "image/png": "[encoded data removed]",
      "text/plain": [
       "<Figure size 640x480 with 1 Axes>"
      ]
     },
     "metadata": {},
     "output_type": "display_data"
    }
   ],
   "source": [
    "# Import roc_curve\n",
    "from sklearn.metrics import roc_curve\n",
    "\n",
    "# Generate ROC curve values: fpr, tpr, thresholds\n",
    "fpr, tpr, thresholds = roc_curve(y_test, y_pred_probs)\n",
    "\n",
    "plt.plot([0, 1], [0, 1], 'k--')\n",
    "\n",
    "# Plot tpr against fpr\n",
    "plt.plot(fpr, tpr)\n",
    "plt.xlabel('False Positive Rate')\n",
    "plt.ylabel('True Positive Rate')\n",
    "plt.title('ROC Curve for Diabetes Prediction')\n",
    "plt.show()"
   ]
  },
  {
   "cell_type": "code",
   "execution_count": 27,
   "id": "09a608ed",
   "metadata": {},
   "outputs": [
    {
     "name": "stdout",
     "output_type": "stream",
     "text": [
      "0.8002483443708608\n"
     ]
    }
   ],
   "source": [
    "from sklearn.metrics import roc_auc_score\n",
    "\n",
    "print(roc_auc_score(y_test, y_pred_probs))"
   ]
  },
  {
   "cell_type": "markdown",
   "id": "a6796bcc",
   "metadata": {},
   "source": [
    "**Question**\n",
    "\n",
    "`Well done on producing the ROC curve for the diabetes prediction model.`\n",
    "\n",
    "But, what does the plot tell you about the model's performance?"
   ]
  },
  {
   "cell_type": "markdown",
   "id": "ad666d92",
   "metadata": {},
   "source": [
    "Question:\n",
    "Well done on producing the ROC curve for the diabetes prediction model.\n",
    "But, what does the plot tell you about the model's performance?\n",
    "\n",
    "Possible Answers:\n",
    "\n",
    "- The model is about as good as randomly guessing the class of each observation.\n",
    "\n",
    "- The model is much worse than randomly guessing the class of each observation.\n",
    "\n",
    "- The model is much better than randomly guessing the class of each observation.\n",
    "\n",
    "- It is not possible to conclude whether the model performs better or worse than randomly guessing the class of each observation.\n",
    "\n",
    "> Ans: The model is much better than randomly guessing the class of each observation.\n",
    "\n",
    "`The ROC curve is above the dotted line, so the model performs better than randomly guessing the class of each observation. (AUC value is 0.8002483443708608, which is pretty good)`"
   ]
  },
  {
   "cell_type": "markdown",
   "id": "6e0dd867",
   "metadata": {},
   "source": [
    "#### ROC AUC\n",
    "The ROC curve you plotted in the last exercise looked promising.\n",
    "\n",
    "Now you will compute the area under the ROC curve, along with the other classification metrics you have used previously.\n",
    "\n",
    "The confusion_matrix and classification_report functions have been preloaded for you, along with the logreg model you previously built, plus X_train, X_test, y_train, y_test. Also, the model's predicted test set labels are stored as y_pred, and probabilities of test set observations belonging to the positive class stored as y_pred_probs.\n",
    "\n",
    "A knn model has also been created and the performance metrics printed in the console, so you can compare the roc_auc_score, confusion_matrix, and classification_report between the two models."
   ]
  },
  {
   "cell_type": "markdown",
   "id": "34f6bf91",
   "metadata": {},
   "source": [
    "- Import roc_auc_score.\n",
    "- Calculate and print the ROC AUC score, passing the test labels and the predicted positive class probabilities.\n",
    "- Calculate and print the confusion matrix.\n",
    "- Call classification_report().\n"
   ]
  },
  {
   "cell_type": "code",
   "execution_count": 28,
   "id": "1400e289",
   "metadata": {},
   "outputs": [
    {
     "name": "stdout",
     "output_type": "stream",
     "text": [
      "0.8002483443708608\n",
      "[[121  30]\n",
      " [ 30  50]]\n",
      "              precision    recall  f1-score   support\n",
      "\n",
      "           0       0.80      0.80      0.80       151\n",
      "           1       0.62      0.62      0.62        80\n",
      "\n",
      "    accuracy                           0.74       231\n",
      "   macro avg       0.71      0.71      0.71       231\n",
      "weighted avg       0.74      0.74      0.74       231\n",
      "\n"
     ]
    }
   ],
   "source": [
    "# Import roc_auc_score\n",
    "from sklearn.metrics import roc_auc_score\n",
    "\n",
    "# Calculate roc_auc_score\n",
    "print(roc_auc_score(y_test, y_pred_probs))\n",
    "\n",
    "# Calculate the confusion matrix\n",
    "print(confusion_matrix(y_test, y_pred))\n",
    "\n",
    "# Calculate the classification report\n",
    "print(classification_report(y_test, y_pred))"
   ]
  },
  {
   "cell_type": "markdown",
   "id": "f1b7c7da",
   "metadata": {},
   "source": [
    "> Did you notice that logistic regression performs better than the KNN model across all the metrics you calculated? A ROC AUC score of 0.8002 means this model is 60% better than a chance model at correctly predicting labels! scikit-learn makes it easy to produce several classification metrics with only a few lines of code."
   ]
  },
  {
   "cell_type": "markdown",
   "id": "c2ec0c49",
   "metadata": {},
   "source": [
    "### iii. Hyperparameter tuning"
   ]
  },
  {
   "cell_type": "markdown",
   "id": "7dbba7eb",
   "metadata": {},
   "source": [
    "#### Hyperparameter tuning with GridSearchCV\n",
    "Now you have seen how to perform grid search hyperparameter tuning, you are going to build a lasso regression model with optimal hyperparameters to predict blood glucose levels using the features in the diabetes_df dataset.\n",
    "\n",
    "X_train, X_test, y_train, and y_test have been preloaded for you. A KFold() object has been created and stored for you as kf, along with a lasso regression model as lasso."
   ]
  },
  {
   "cell_type": "markdown",
   "id": "ca0873f1",
   "metadata": {},
   "source": [
    "- Import GridSearchCV.\n",
    "- Set up a parameter grid for \"alpha\", using np.linspace() to create 20 evenly spaced values ranging from 0.00001 to 1.\n",
    "- Call GridSearchCV(), passing lasso, the parameter grid, and setting cv equal to kf.\n",
    "- Fit the grid search object to the training data to perform a cross-validated grid search."
   ]
  },
  {
   "cell_type": "code",
   "execution_count": 29,
   "id": "79bfe775",
   "metadata": {},
   "outputs": [
    {
     "name": "stdout",
     "output_type": "stream",
     "text": [
      "(614, 8) (614,)\n"
     ]
    }
   ],
   "source": [
    "X = diabetes_df.drop([\"glucose\"], axis=1).values\n",
    "y = diabetes_df[\"glucose\"].values\n",
    "\n",
    "X_train, X_test, y_train, y_test = train_test_split(X, y, test_size=0.2, random_state=42)\n",
    "print(X_train.shape, y_train.shape)"
   ]
  },
  {
   "cell_type": "code",
   "execution_count": 30,
   "id": "606ed54e",
   "metadata": {},
   "outputs": [
    {
     "name": "stdout",
     "output_type": "stream",
     "text": [
      "Tuned lasso paramaters: {'alpha': 1e-05}\n",
      "Tuned lasso score: 0.3307880723812198\n"
     ]
    }
   ],
   "source": [
    "# Import GridSearchCV\n",
    "from sklearn.model_selection import GridSearchCV, KFold\n",
    "from sklearn.linear_model import Lasso\n",
    "\n",
    "\n",
    "kf = KFold(n_splits=5, shuffle=True, random_state=42)\n",
    "\n",
    "# Set up the parameter grid\n",
    "param_grid = {\"alpha\": np.linspace(0.00001, 1, 20)}\n",
    "\n",
    "# Instantiate lasso_cv\n",
    "lasso = Lasso()\n",
    "lasso_cv = GridSearchCV(lasso, param_grid, cv=kf)\n",
    "\n",
    "# Fit to the training data\n",
    "lasso_cv.fit(X_train, y_train)\n",
    "print(\"Tuned lasso paramaters: {}\".format(lasso_cv.best_params_))\n",
    "print(\"Tuned lasso score: {}\".format(lasso_cv.best_score_))\n",
    "\n"
   ]
  },
  {
   "cell_type": "markdown",
   "id": "5f8081ff",
   "metadata": {},
   "source": [
    "> Well done! Unfortunately, the best model only has an R-squared score of 0.33, highlighting that using the optimal hyperparameters does not guarantee a high performing model!"
   ]
  },
  {
   "cell_type": "markdown",
   "id": "7b7f4823",
   "metadata": {},
   "source": [
    "#### Hyperparameter tuning with RandomizedSearchCV\n",
    "As you saw, GridSearchCV can be computationally expensive, especially if you are searching over a large hyperparameter space. In this case, you can use RandomizedSearchCV, which tests a fixed number of hyperparameter settings from specified probability distributions.\n",
    "\n",
    "Training and test sets from diabetes_df have been pre-loaded for you as X_train. X_test, y_train, and y_test, where the target is \"diabetes\". A logistic regression model has been created and stored as logreg, as well as a KFold variable stored as kf.\n",
    "\n",
    "You will define a range of hyperparameters and use RandomizedSearchCV, which has been imported from sklearn.model_selection, to look for optimal hyperparameters from these options."
   ]
  },
  {
   "cell_type": "markdown",
   "id": "807e91d9",
   "metadata": {},
   "source": [
    "- Create params, adding \"l1\" and \"l2\" as penalty values, setting C to a range of 50 float values between 0.1 and 1.0, and class_weight to either \"balanced\" or a dictionary containing 0:0.8, 1:0.2.\n",
    "- Create the Randomized Search CV object, passing the model and the parameters, and setting cv equal to kf.\n",
    "- Fit logreg_cv to the training data.\n",
    "- Print the model's best parameters and accuracy score."
   ]
  },
  {
   "cell_type": "code",
   "execution_count": 31,
   "id": "32fb2f5e",
   "metadata": {},
   "outputs": [
    {
     "name": "stdout",
     "output_type": "stream",
     "text": [
      "(614, 8) (614,)\n"
     ]
    }
   ],
   "source": [
    "X = diabetes_df.drop([\"diabetes\"], axis=1).values\n",
    "y = diabetes_df[\"diabetes\"].values\n",
    "\n",
    "X_train, X_test, y_train, y_test = train_test_split(X, y, test_size=0.2, random_state=42)\n",
    "print(X_train.shape, y_train.shape)"
   ]
  },
  {
   "cell_type": "code",
   "execution_count": 32,
   "id": "298cc826",
   "metadata": {},
   "outputs": [
    {
     "name": "stdout",
     "output_type": "stream",
     "text": [
      "Tuned Logistic Regression Parameters: {'tol': 0.4694408163265306, 'penalty': 'l1', 'class_weight': 'balanced', 'C': 0.8346938775510204}\n",
      "Tuned Logistic Regression Best Accuracy Score: 0.7248034119685458\n"
     ]
    }
   ],
   "source": [
    "from sklearn.model_selection import RandomizedSearchCV\n",
    "# Create the parameter space\n",
    "params = {\"penalty\": [\"l1\", \"l2\"],\n",
    "         \"tol\": np.linspace(0.0001, 1.0, 50),\n",
    "         \"C\": np.linspace(0.1, 1, 50),\n",
    "         \"class_weight\": [\"balanced\", {0:0.8, 1:0.2}]}\n",
    "\n",
    "log_reg = LogisticRegression(solver='liblinear',max_iter=10000)\n",
    "# Instantiate the RandomizedSearchCV object\n",
    "logreg_cv = RandomizedSearchCV(log_reg, params, cv=kf)\n",
    "\n",
    "# Fit the data to the model\n",
    "logreg_cv.fit(X_train, y_train)\n",
    "\n",
    "# Print the tuned parameters and score\n",
    "print(\"Tuned Logistic Regression Parameters: {}\".format(logreg_cv.best_params_))\n",
    "print(\"Tuned Logistic Regression Best Accuracy Score: {}\".format(logreg_cv.best_score_))"
   ]
  },
  {
   "cell_type": "markdown",
   "id": "421a064d",
   "metadata": {},
   "source": [
    "> Great searching! Even without exhaustively trying every combination of hyperparameters, the model has an accuracy of over 70% on the test set! So far we have worked with clean datasets; however, in the next chapter, we will discuss the steps required to transform messy data before building supervised learning models."
   ]
  },
  {
   "cell_type": "markdown",
   "id": "6a69a5cb",
   "metadata": {},
   "source": [
    "## 4. Preprocessing and Pipelines"
   ]
  },
  {
   "cell_type": "markdown",
   "id": "783175f4",
   "metadata": {},
   "source": [
    "### i. Preprocessing data"
   ]
  },
  {
   "cell_type": "markdown",
   "id": "e874edf1",
   "metadata": {},
   "source": [
    "#### Creating dummy variables\n",
    "Being able to include categorical features in the model building process can enhance performance as they may add information that contributes to prediction accuracy.\n",
    "\n",
    "The music_df dataset has been preloaded for you, and its shape is printed. Also, pandas has been imported as pd.\n",
    "\n",
    "Now you will create a new DataFrame containing the original columns of music_df plus dummy variables from the \"genre\" column."
   ]
  },
  {
   "cell_type": "markdown",
   "id": "a694adf5",
   "metadata": {},
   "source": [
    "- Use a relevant function, passing the entire music_df DataFrame, to create music_dummies, dropping the first binary column.\n",
    "- Print the shape of music_dummies.\n"
   ]
  },
  {
   "cell_type": "code",
   "execution_count": 33,
   "id": "4e7407cd",
   "metadata": {},
   "outputs": [
    {
     "name": "stdout",
     "output_type": "stream",
     "text": [
      "Shape of music_dummies: (1000, 13)\n"
     ]
    }
   ],
   "source": [
    "# Create music_dummies\n",
    "music_dummies = pd.get_dummies(music_df)\n",
    "\n",
    "# Create dummy variables with drop_first=True: music_dummies\n",
    "music_dummies = pd.get_dummies(music_df, drop_first=True)\n",
    "\n",
    "# Print the new DataFrame's shape\n",
    "print(\"Shape of music_dummies: {}\".format(music_dummies.shape))"
   ]
  },
  {
   "cell_type": "markdown",
   "id": "ffa19428",
   "metadata": {},
   "source": [
    "> As there were ten values in the \"genre\" column, nine new columns were added by a call of pd.get_dummies() using drop_first=True. After dropping the original \"genre\" column, there are still eight new columns in the DataFrame!"
   ]
  },
  {
   "cell_type": "markdown",
   "id": "cb169b83",
   "metadata": {},
   "source": [
    "#### Regression with categorical features\n",
    "Now you have created music_dummies, containing binary features for each song's genre, it's time to build a ridge regression model to predict song popularity.\n",
    "\n",
    "music_dummies has been preloaded for you, along with Ridge, cross_val_score, numpy as np, and a KFold object stored as kf.\n",
    "\n",
    "The model will be evaluated by calculating the average RMSE, but first, you will need to convert the scores for each fold to positive values and take their square root. This metric shows the average error of our model's predictions, so it can be compared against the standard deviation of the target value—\"popularity\"."
   ]
  },
  {
   "cell_type": "markdown",
   "id": "181c8ee4",
   "metadata": {},
   "source": [
    "- Create X, containing all features in music_dummies, and y, consisting of the \"popularity\" column, respectively.\n",
    "- Instantiate a ridge regression model, setting alpha equal to 0.2.\n",
    "- Perform cross-validation on X and y using the ridge model, setting cv equal to kf, and using negative mean squared error as the scoring metric.\n",
    "- Print the RMSE values by converting negative scores to positive and taking the square root."
   ]
  },
  {
   "cell_type": "code",
   "execution_count": 34,
   "id": "5c46d5b5",
   "metadata": {
    "scrolled": true
   },
   "outputs": [
    {
     "name": "stdout",
     "output_type": "stream",
     "text": [
      "Average RMSE: 9.998909565816525\n",
      "Standard Deviation of the target array: 14.02156909907019\n"
     ]
    }
   ],
   "source": [
    "# Import the necessary modules\n",
    "from sklearn.model_selection import train_test_split\n",
    "from sklearn.model_selection import cross_val_score, KFold\n",
    "from sklearn.linear_model import Ridge\n",
    "\n",
    "# Create X and y\n",
    "X = music_dummies.drop(['popularity'], axis =1).values\n",
    "y = music_dummies['popularity'].values\n",
    "\n",
    "X_train, X_test, y_train, y_test = train_test_split(X, y, test_size=0.2, random_state=42)\n",
    "\n",
    "kf =KFold(n_splits=6, shuffle=True, random_state=42)\n",
    "\n",
    "# Instantiate a ridge model\n",
    "ridge = Ridge(alpha=0.2)\n",
    "\n",
    "# Perform cross-validation\n",
    "scores = cross_val_score(ridge, X, y, cv=kf, scoring=\"neg_mean_squared_error\")\n",
    "\n",
    "\n",
    "# Calculate RMSE\n",
    "rmse = np.sqrt(-scores)\n",
    "print(\"Average RMSE: {}\".format(np.mean(rmse)))\n",
    "print(\"Standard Deviation of the target array: {}\".format(np.std(y)))"
   ]
  },
  {
   "cell_type": "markdown",
   "id": "fd49e4ca",
   "metadata": {},
   "source": [
    "> Great work! An average RMSE of approximately 9.99 is lower than the standard deviation of the target variable (song popularity), suggesting the model is reasonably accurate."
   ]
  },
  {
   "cell_type": "markdown",
   "id": "403d5e9d",
   "metadata": {},
   "source": [
    "### ii. Handling missing data"
   ]
  },
  {
   "cell_type": "markdown",
   "id": "37d5445c",
   "metadata": {},
   "source": [
    "#### Dropping missing data\n",
    "Over the next three exercises, you are going to tidy the music_df dataset. You will create a pipeline to impute missing values and build a KNN classifier model, then use it to predict whether a song is of the \"Rock\" genre.\n",
    "\n",
    "In this exercise specifically, you will drop missing values accounting for less than 5% of the dataset, and convert the \"genre\" column into a binary feature."
   ]
  },
  {
   "cell_type": "markdown",
   "id": "24f7fe33",
   "metadata": {},
   "source": [
    "- 1. Print the number of missing values for each column in the music_df dataset, sorted in ascending order."
   ]
  },
  {
   "cell_type": "code",
   "execution_count": 35,
   "id": "9a2cba47",
   "metadata": {},
   "outputs": [
    {
     "name": "stdout",
     "output_type": "stream",
     "text": [
      "Unnamed: 0          0\n",
      "popularity          0\n",
      "acousticness        0\n",
      "danceability        0\n",
      "duration_ms         0\n",
      "energy              0\n",
      "instrumentalness    0\n",
      "liveness            0\n",
      "loudness            0\n",
      "speechiness         0\n",
      "tempo               0\n",
      "valence             0\n",
      "genre               0\n",
      "dtype: int64\n"
     ]
    }
   ],
   "source": [
    "# Print missing values for each column\n",
    "print(music_df.isna().sum().sort_values())"
   ]
  },
  {
   "cell_type": "markdown",
   "id": "05016daf",
   "metadata": {},
   "source": [
    "- 2.  Remove values for all columns with 50 or fewer missing values."
   ]
  },
  {
   "cell_type": "code",
   "execution_count": 36,
   "id": "ebe160a8",
   "metadata": {},
   "outputs": [],
   "source": [
    "# Remove values where less than 5% are missing\n",
    "music_df = music_df.dropna(subset=[\"genre\", \"popularity\", \"loudness\", \"liveness\", \"tempo\"])"
   ]
  },
  {
   "cell_type": "markdown",
   "id": "c76e75e7",
   "metadata": {},
   "source": [
    "- 3. Convert music_df[\"genre\"] to values of 1 if the row contains \"Rock\", otherwise change the value to 0."
   ]
  },
  {
   "cell_type": "code",
   "execution_count": 37,
   "id": "65c00bc8",
   "metadata": {},
   "outputs": [
    {
     "data": {
      "text/plain": [
       "1    500\n",
       "0    500\n",
       "Name: genre, dtype: int64"
      ]
     },
     "execution_count": 37,
     "metadata": {},
     "output_type": "execute_result"
    }
   ],
   "source": [
    "music_df.genre.value_counts()"
   ]
  },
  {
   "cell_type": "code",
   "execution_count": 38,
   "id": "ae7a86e6",
   "metadata": {},
   "outputs": [
    {
     "name": "stdout",
     "output_type": "stream",
     "text": [
      "Unnamed: 0          0\n",
      "popularity          0\n",
      "acousticness        0\n",
      "danceability        0\n",
      "duration_ms         0\n",
      "energy              0\n",
      "instrumentalness    0\n",
      "liveness            0\n",
      "loudness            0\n",
      "speechiness         0\n",
      "tempo               0\n",
      "valence             0\n",
      "genre               0\n",
      "dtype: int64\n",
      "Shape of the `music_df`: (1000, 13)\n"
     ]
    }
   ],
   "source": [
    "# Convert genre to a binary feature\n",
    "#music_df[\"genre\"] = np.where(music_df[\"genre\"] == \"Rock\", 1, 0)\n",
    "\n",
    "print(music_df.isna().sum().sort_values())\n",
    "print(\"Shape of the `music_df`: {}\".format(music_df.shape))"
   ]
  },
  {
   "cell_type": "markdown",
   "id": "8f13d4d7",
   "metadata": {},
   "source": [
    "> Well done! The dataset has gone from 1000 observations down to 892, but it is now in the correct format for binary classification and the remaining missing values can be imputed as part of a pipeline."
   ]
  },
  {
   "cell_type": "markdown",
   "id": "a622492b",
   "metadata": {},
   "source": [
    "#### Pipeline for song genre prediction: I\n",
    "Now it's time to build a pipeline. It will contain steps to impute missing values using the mean for each feature and build a KNN model for the classification of song genre.\n",
    "\n",
    "The modified music_df dataset that you created in the previous exercise has been preloaded for you, along with KNeighborsClassifier and train_test_split."
   ]
  },
  {
   "cell_type": "markdown",
   "id": "051efe17",
   "metadata": {},
   "source": [
    "- Import SimpleImputer and Pipeline.\n",
    "- Instantiate an imputer.\n",
    "- Instantiate a KNN classifier with three neighbors.\n",
    "- Create steps, a list of tuples containing the imputer variable you created, called \"imputer\", followed by the knn model you created, called \"knn\"."
   ]
  },
  {
   "cell_type": "code",
   "execution_count": 39,
   "id": "004bb198",
   "metadata": {},
   "outputs": [],
   "source": [
    "# Import modules\n",
    "from sklearn.impute import SimpleImputer\n",
    "from sklearn.pipeline import Pipeline\n",
    "from sklearn.neighbors import KNeighborsClassifier\n",
    "from sklearn.metrics import confusion_matrix\n",
    "\n",
    "# Instantiate an imputer\n",
    "imputer = SimpleImputer(strategy=\"most_frequent\")\n",
    "\n",
    "# Instantiate a knn model\n",
    "knn = KNeighborsClassifier(n_neighbors=3)\n",
    "\n",
    "# Build steps for the pipeline\n",
    "steps = [(\"imputer\", imputer), \n",
    "         (\"knn\", knn)]"
   ]
  },
  {
   "cell_type": "markdown",
   "id": "78d97851",
   "metadata": {},
   "source": [
    "> Perfect pipeline skills! You are now ready to build and evaluate a song genre classification model."
   ]
  },
  {
   "cell_type": "markdown",
   "id": "8046614a",
   "metadata": {},
   "source": [
    "#### Pipeline for song genre prediction: II\n",
    "Having set up the steps of the pipeline in the previous exercise, you will now use it on the music_df dataset to classify the genre of songs. What makes pipelines so incredibly useful is the simple interface that they provide.\n",
    "\n",
    "X_train, X_test, y_train, and y_test have been preloaded for you, and confusion_matrix has been imported from sklearn.metrics."
   ]
  },
  {
   "cell_type": "markdown",
   "id": "a1192439",
   "metadata": {},
   "source": [
    "- Create a pipeline using the steps you previously defined.\n",
    "- Fit the pipeline to the training data.\n",
    "- Make predictions on the test set.\n",
    "- Calculate and print the confusion matrix."
   ]
  },
  {
   "cell_type": "code",
   "execution_count": 40,
   "id": "da401b4b",
   "metadata": {},
   "outputs": [],
   "source": [
    "imp_mean = SimpleImputer(strategy=\"mean\")"
   ]
  },
  {
   "cell_type": "code",
   "execution_count": 41,
   "id": "53768f53",
   "metadata": {
    "scrolled": true
   },
   "outputs": [
    {
     "name": "stdout",
     "output_type": "stream",
     "text": [
      "[[0 0 0 ... 0 0 0]\n",
      " [0 0 0 ... 0 0 0]\n",
      " [0 0 0 ... 0 0 0]\n",
      " ...\n",
      " [0 0 0 ... 0 0 0]\n",
      " [0 0 0 ... 0 0 0]\n",
      " [0 0 0 ... 0 0 0]]\n"
     ]
    }
   ],
   "source": [
    "steps = [(\"imputer\", imp_mean),\n",
    "        (\"knn\", knn)]\n",
    "\n",
    "# Create the pipeline\n",
    "pipeline = Pipeline(steps)\n",
    "\n",
    "# Fit the pipeline to the training data\n",
    "pipeline.fit(X_train, y_train)\n",
    "\n",
    "# Make predictions on the test set\n",
    "y_pred = pipeline.predict(X_test)\n",
    "\n",
    "# Print the confusion matrix\n",
    "print(confusion_matrix(y_test, y_pred))"
   ]
  },
  {
   "cell_type": "markdown",
   "id": "31d9ac5d",
   "metadata": {},
   "source": [
    "> Excellent! See how easy it is to scale our model building workflow using pipelines. In this case, the confusion matrix highlights that the model had 79 true positives and 82 true negatives!"
   ]
  },
  {
   "cell_type": "markdown",
   "id": "a7325547",
   "metadata": {},
   "source": [
    "#### Centering and scaling for regression\n",
    "Now you have seen the benefits of scaling your data, you will use a pipeline to preprocess the music_df features and build a lasso regression model to predict a song's loudness.\n",
    "\n",
    "X_train, X_test, y_train, and y_test have been created from the music_df dataset, where the target is \"loudness\" and the features are all other columns in the dataset. Lasso and Pipeline have also been imported for you.\n",
    "\n",
    "Note that \"genre\" has been converted to a binary feature where 1 indicates a rock song, and 0 represents other genres."
   ]
  },
  {
   "cell_type": "markdown",
   "id": "3b58a9ae",
   "metadata": {},
   "source": [
    "- Import StandardScaler.\n",
    "- Create the steps for the pipeline object, a StandardScaler object called \"scaler\", and a lasso model called \"lasso\" with alpha set to 0.5.\n",
    "- Instantiate a pipeline with steps to scale and build a lasso regression model.\n",
    "- Calculate the R-squared value on the test data."
   ]
  },
  {
   "cell_type": "code",
   "execution_count": 42,
   "id": "d66c0907",
   "metadata": {},
   "outputs": [],
   "source": [
    "# Convert genre to a binary feature\n",
    "#music_df[\"genre\"] = np.where(music_df[\"genre\"] == \"Rock\", 1, 0)\n"
   ]
  },
  {
   "cell_type": "code",
   "execution_count": 43,
   "id": "e6377b9c",
   "metadata": {},
   "outputs": [],
   "source": [
    "X = music_df.drop(columns=['Unnamed: 0', 'loudness']).values\n",
    "y = music_df[\"loudness\"].values\n",
    "\n",
    "X_train, X_test, y_train, y_test = train_test_split(X, y, test_size=0.2, random_state=42)"
   ]
  },
  {
   "cell_type": "code",
   "execution_count": 44,
   "id": "992df579",
   "metadata": {},
   "outputs": [
    {
     "name": "stdout",
     "output_type": "stream",
     "text": [
      "0.7200653029753489\n"
     ]
    }
   ],
   "source": [
    "# Import StandardScaler\n",
    "from sklearn.preprocessing import StandardScaler\n",
    "from sklearn.linear_model import Lasso\n",
    "\n",
    "# Create pipeline steps\n",
    "steps = [(\"scaler\", StandardScaler()),\n",
    "         (\"lasso\", Lasso(alpha=0.5))]\n",
    "\n",
    "# Instantiate the pipeline\n",
    "pipeline = Pipeline(steps)\n",
    "pipeline.fit(X_train, y_train)\n",
    "\n",
    "# Calculate and print R-squared\n",
    "print(pipeline.score(X_test, y_test))"
   ]
  },
  {
   "cell_type": "markdown",
   "id": "59a94325",
   "metadata": {},
   "source": [
    "Awesome scaling! The model may have only produced an R-squared of 0.720, but without scaling this exact model would have only produced a score of 0.35, which proves just how powerful scaling can be!"
   ]
  },
  {
   "cell_type": "markdown",
   "id": "a30051c7",
   "metadata": {},
   "source": [
    "#### Centering and scaling for classification\n",
    "Now you will bring together scaling and model building into a pipeline for cross-validation.\n",
    "\n",
    "Your task is to build a pipeline to scale features in the music_df dataset and perform grid search cross-validation using a logistic regression model with different values for the hyperparameter C. The target variable here is \"genre\", which contains binary values for rock as 1 and any other genre as 0.\n",
    "\n",
    "StandardScaler, LogisticRegression, and GridSearchCV have all been imported for you."
   ]
  },
  {
   "cell_type": "markdown",
   "id": "fc088474",
   "metadata": {},
   "source": [
    "- Build the steps for the pipeline: a StandardScaler() object named \"scaler\", and a logistic regression model named \"logreg\".\n",
    "- Create the parameters, searching 20 equally spaced float values ranging from 0.001 to 1.0 for the logistic regression model's C hyperparameter within the pipeline.\n",
    "- Instantiate the grid search object.\n",
    "- Fit the grid search object to the training data."
   ]
  },
  {
   "cell_type": "code",
   "execution_count": 45,
   "id": "3db41393",
   "metadata": {},
   "outputs": [
    {
     "name": "stdout",
     "output_type": "stream",
     "text": [
      "0.8625 \n",
      " {'logreg__C': 0.15873684210526315}\n"
     ]
    }
   ],
   "source": [
    "import numpy as np\n",
    "from sklearn.preprocessing import StandardScaler\n",
    "from sklearn.linear_model import LogisticRegression\n",
    "from sklearn.model_selection import GridSearchCV, train_test_split\n",
    "\n",
    "# Separate features (X) and target (y)\n",
    "X = music_df.drop(columns=['Unnamed: 0', 'genre'])\n",
    "y = music_df['genre']\n",
    "\n",
    "# Build the steps\n",
    "steps = [(\"scaler\", StandardScaler()),\n",
    "         (\"logreg\", LogisticRegression())]\n",
    "pipeline = Pipeline(steps)\n",
    "\n",
    "# Create the parameter space\n",
    "parameters = {\"logreg__C\": np.linspace(0.001, 1.0, 20)}\n",
    "\n",
    "# Split into training and test sets\n",
    "X_train, X_test, y_train, y_test = train_test_split(X, y, test_size=0.2, random_state=21)\n",
    "\n",
    "# Instantiate the grid search object\n",
    "cv = GridSearchCV(pipeline, param_grid=parameters)\n",
    "\n",
    "# Fit to the training data\n",
    "cv.fit(X_train, y_train)\n",
    "print(cv.best_score_, \"\\n\", cv.best_params_)\n"
   ]
  },
  {
   "cell_type": "markdown",
   "id": "493e8a58",
   "metadata": {},
   "source": [
    "> Well done! Using a pipeline shows that a logistic regression model with \"C\" set to approximately 0.2 produces a model with 0.8625 accuracy!"
   ]
  },
  {
   "cell_type": "markdown",
   "id": "bda32a09",
   "metadata": {},
   "source": [
    "### iv. Evaluating multiple models"
   ]
  },
  {
   "cell_type": "markdown",
   "id": "26bfb7c2",
   "metadata": {},
   "source": [
    "#### Visualizing regression model performance\n",
    "Now you have seen how to evaluate multiple models out of the box, you will build three regression models to predict a song's \"energy\" levels.\n",
    "\n",
    "The music_df dataset has had dummy variables for \"genre\" added. Also, feature and target arrays have been created, and these have been split into X_train, X_test, y_train, and y_test.\n",
    "\n",
    "The following have been imported for you: LinearRegression, Ridge, Lasso, cross_val_score, and KFold."
   ]
  },
  {
   "cell_type": "markdown",
   "id": "19cc76cc",
   "metadata": {},
   "source": [
    "- Write a for loop using model as the iterator, and model.values() as the iterable.\n",
    "- Perform cross-validation on the training features and the training target array using the model, setting cv equal to the KFold object.\n",
    "- Append the model's cross-validation scores to the results list.\n",
    "- Create a box plot displaying the results, with the x-axis labels as the names of the models."
   ]
  },
  {
   "cell_type": "code",
   "execution_count": 46,
   "id": "6b14a366",
   "metadata": {},
   "outputs": [],
   "source": [
    "import matplotlib.pyplot as plt\n",
    "from sklearn.preprocessing import StandardScaler\n",
    "from sklearn.model_selection import cross_val_score, KFold, train_test_split\n",
    "from sklearn.neighbors import KNeighborsClassifier\n",
    "from sklearn.linear_model import LogisticRegression\n",
    "from sklearn.tree import DecisionTreeClassifier\n",
    "\n",
    "music_df = pd.get_dummies(music_df)\n",
    "X = music_df.drop(\"genre\", axis=1).values\n",
    "y = music_df[\"genre\"].values\n",
    "X_train, X_test, y_train, y_test = train_test_split(X, y, random_state=42)\n",
    "scaler = StandardScaler()\n",
    "X_train_scaled = scaler.fit_transform(X_train)\n",
    "X_test_scaled = scaler.transform(X_test)"
   ]
  },
  {
   "cell_type": "code",
   "execution_count": 47,
   "id": "77ef90b2",
   "metadata": {},
   "outputs": [
    {
     "data": {
      "image/png": "[encoded data removed]",
      "text/plain": [
       "<Figure size 640x480 with 1 Axes>"
      ]
     },
     "metadata": {},
     "output_type": "display_data"
    }
   ],
   "source": [
    "models = {\"Linear Regression\": LinearRegression(), \"Ridge\": Ridge(alpha=0.1), \"Lasso\": Lasso(alpha=0.1)}\n",
    "results = []\n",
    "\n",
    "# Loop through the models' values\n",
    "for model in models.values():\n",
    "  kf = KFold(n_splits=6, random_state=42, shuffle=True)\n",
    "  \n",
    "  # Perform cross-validation\n",
    "  cv_scores = cross_val_score(model, X_train_scaled, y_train, cv=kf)\n",
    "  \n",
    "  # Append the results\n",
    "  results.append(cv_scores)\n",
    "\n",
    "# Create a box plot of the results\n",
    "plt.boxplot(results, labels=models.keys())\n",
    "plt.show()"
   ]
  },
  {
   "cell_type": "markdown",
   "id": "c0ee647a",
   "metadata": {},
   "source": [
    "> Nicely done! Lasso regression is not a good model for this problem, while linear regression and ridge perform fairly equally. Let's make predictions on the test set, and see if the RMSE can guide us on model selection."
   ]
  },
  {
   "cell_type": "markdown",
   "id": "12322ec1",
   "metadata": {},
   "source": [
    "#### Predicting on the test set\n",
    "In the last exercise, linear regression and ridge appeared to produce similar results. It would be appropriate to select either of those models; however, you can check predictive performance on the test set to see if either one can outperform the other.\n",
    "\n",
    "You will use root mean squared error (RMSE) as the metric. The dictionary models, containing the names and instances of the two models, has been preloaded for you along with the training and target arrays X_train_scaled, X_test_scaled, y_train, and y_test."
   ]
  },
  {
   "cell_type": "markdown",
   "id": "3c66bff6",
   "metadata": {},
   "source": [
    "- Import mean_squared_error.\n",
    "- Fit the model to the scaled training features and the training labels.\n",
    "- Make predictions using the scaled test features.\n",
    "- Calculate RMSE by passing the test set labels and the predicted labels."
   ]
  },
  {
   "cell_type": "code",
   "execution_count": 48,
   "id": "492f7d60",
   "metadata": {},
   "outputs": [
    {
     "name": "stdout",
     "output_type": "stream",
     "text": [
      "Linear Regression Test Set RMSE: 0.3780410911312887\n",
      "Ridge Test Set RMSE: 0.37802773069140794\n",
      "Lasso Test Set RMSE: 0.3871924267008221\n"
     ]
    }
   ],
   "source": [
    "# Import mean_squared_error\n",
    "from sklearn.metrics import mean_squared_error\n",
    "\n",
    "for name, model in models.items():\n",
    "  \n",
    "  # Fit the model to the training data\n",
    "  model.fit(X_train_scaled, y_train)\n",
    "  \n",
    "  # Make predictions on the test set\n",
    "  y_pred = model.predict(X_test_scaled)\n",
    "  \n",
    "  # Calculate the test_rmse\n",
    "  test_rmse = mean_squared_error(y_test, y_pred, squared=False)\n",
    "  print(\"{} Test Set RMSE: {}\".format(name, test_rmse))"
   ]
  },
  {
   "cell_type": "markdown",
   "id": "71106ab9",
   "metadata": {},
   "source": [
    "> The linear regression model just edges the best performance, although the difference is a RMSE of 0.00001 for popularity! Now let's look at classification model selection."
   ]
  },
  {
   "cell_type": "markdown",
   "id": "1c21e094",
   "metadata": {},
   "source": [
    "#### Visualizing classification model performance\n",
    "In this exercise, you will be solving a classification problem where the \"popularity\" column in the music_df dataset has been converted to binary values, with 1 representing popularity more than or equal to the median for the \"popularity\" column, and 0 indicating popularity below the median.\n",
    "\n",
    "Your task is to build and visualize the results of three different models to classify whether a song is popular or not.\n",
    "\n",
    "The data has been split, scaled, and preloaded for you as X_train_scaled, X_test_scaled, y_train, and y_test. Additionally, KNeighborsClassifier, DecisionTreeClassifier, and LogisticRegression have been imported."
   ]
  },
  {
   "cell_type": "markdown",
   "id": "c3e17cba",
   "metadata": {},
   "source": [
    "- Create a dictionary of \"Logistic Regression\", \"KNN\", and \"Decision Tree Classifier\", setting the dictionary's values to a call of each model.\n",
    "- Loop through the values in models.\n",
    "- Instantiate a KFold object to perform 6 splits, setting shuffle to True and random_state to 12.\n",
    "- Perform cross-validation using the model, the scaled training features, the target training set, and setting cv equal to kf."
   ]
  },
  {
   "cell_type": "code",
   "execution_count": 49,
   "id": "37068b0b",
   "metadata": {},
   "outputs": [],
   "source": [
    "import matplotlib.pyplot as plt\n",
    "from sklearn.preprocessing import StandardScaler\n",
    "from sklearn.model_selection import cross_val_score, KFold, train_test_split\n",
    "from sklearn.neighbors import KNeighborsClassifier\n",
    "from sklearn.linear_model import LogisticRegression\n",
    "from sklearn.tree import DecisionTreeClassifier\n",
    "\n",
    "# Assuming music_df is your dataframe\n",
    "median_popularity = music_df[\"popularity\"].median()\n",
    "\n",
    "# Convert popularity to binary feature\n",
    "music_df[\"popularity\"] = np.where(music_df[\"popularity\"] >= median_popularity, 1, 0)\n",
    "\n",
    "\n",
    "X = music_df.drop(\"popularity\", axis=1)\n",
    "y = music_df[\"popularity\"].values\n",
    "X_train, X_test, y_train, y_test = train_test_split(X, y, random_state=42)\n",
    "scaler = StandardScaler()\n",
    "X_train_scaled = scaler.fit_transform(X_train)\n",
    "X_test_scaled = scaler.transform(X_test)\n"
   ]
  },
  {
   "cell_type": "code",
   "execution_count": 50,
   "id": "3b60a972",
   "metadata": {},
   "outputs": [
    {
     "data": {
      "image/png": "[encoded data removed]",
      "text/plain": [
       "<Figure size 640x480 with 1 Axes>"
      ]
     },
     "metadata": {},
     "output_type": "display_data"
    }
   ],
   "source": [
    "# Create models dictionary\n",
    "models = {\"Logistic Regression\": LogisticRegression(), \n",
    "          \"KNN\": KNeighborsClassifier(),\n",
    "          \"Decision Tree Classifier\": DecisionTreeClassifier()}\n",
    "results = []\n",
    "\n",
    "# Loop through the models' values\n",
    "for model in models.values():\n",
    "  \n",
    "  # Instantiate a KFold object\n",
    "  kf = KFold(n_splits=6, random_state=12, shuffle=True)\n",
    "  \n",
    "  # Perform cross-validation\n",
    "  cv_results = cross_val_score(model, X_train_scaled, y_train, cv=kf)\n",
    "  results.append(cv_results)\n",
    "plt.boxplot(results, labels=models.keys())\n",
    "plt.show()"
   ]
  },
  {
   "cell_type": "markdown",
   "id": "855f4e5f",
   "metadata": {},
   "source": [
    "> Looks like logistic regression is the best candidate based on the cross-validation results! Let's wrap up by building a pipeline"
   ]
  },
  {
   "cell_type": "markdown",
   "id": "55039cc8",
   "metadata": {},
   "source": [
    "#### Pipeline for predicting song popularity\n",
    "For the final exercise, you will build a pipeline to impute missing values, scale features, and perform hyperparameter tuning of a logistic regression model. The aim is to find the best parameters and accuracy when predicting song genre!\n",
    "\n",
    "All the models and objects required to build the pipeline have been preloaded for you."
   ]
  },
  {
   "cell_type": "markdown",
   "id": "12ce778a",
   "metadata": {},
   "source": [
    "- Create the steps for the pipeline by calling a simple imputer, a standard scaler, and a logistic regression model.\n",
    "- Create a pipeline object, and pass the steps variable.\n",
    "- Instantiate a grid search object to perform cross-validation using the pipeline and the parameters.\n",
    "- Print the best parameters and compute and print the test set accuracy score for the grid search object."
   ]
  },
  {
   "cell_type": "code",
   "execution_count": 51,
   "id": "a84a14e3",
   "metadata": {},
   "outputs": [
    {
     "name": "stdout",
     "output_type": "stream",
     "text": [
      "Tuned Logistic Regression Parameters: {'logreg__C': 0.112, 'logreg__solver': 'newton-cg'}, Accuracy: 0.776\n"
     ]
    }
   ],
   "source": [
    "# Create steps\n",
    "steps = [(\"imp_mean\", SimpleImputer()), \n",
    "         (\"scaler\", StandardScaler()), \n",
    "         (\"logreg\", LogisticRegression())]\n",
    "\n",
    "# Set up pipeline\n",
    "pipeline = Pipeline(steps)\n",
    "params = {\"logreg__solver\": [\"newton-cg\", \"saga\", \"lbfgs\"],\n",
    "         \"logreg__C\": np.linspace(0.001, 1.0, 10)}\n",
    "\n",
    "# Create the GridSearchCV object\n",
    "tuning = GridSearchCV(pipeline, param_grid=params)\n",
    "tuning.fit(X_train, y_train)\n",
    "y_pred = tuning.predict(X_test)\n",
    "\n",
    "# Compute and print performance\n",
    "print(\"Tuned Logistic Regression Parameters: {}, Accuracy: {}\".format(tuning.best_params_, tuning.score(X_test, y_test)))"
   ]
  },
  {
   "cell_type": "markdown",
   "id": "cccf7ddd",
   "metadata": {},
   "source": [
    "> Excellent - you've selected a model, built a preprocessing pipeline, and performed hyperparameter tuning to create a model that is 78% accurate in predicting song genres!"
   ]
  },
  {
   "cell_type": "code",
   "execution_count": null,
   "id": "ae3dfd7e",
   "metadata": {},
   "outputs": [],
   "source": []
  }
 ],
 "metadata": {
  "kernelspec": {
   "display_name": "Python 3 (ipykernel)",
   "language": "python",
   "name": "python3"
  },
  "language_info": {
   "codemirror_mode": {
    "name": "ipython",
    "version": 3
   },
   "file_extension": ".py",
   "mimetype": "text/x-python",
   "name": "python",
   "nbconvert_exporter": "python",
   "pygments_lexer": "ipython3",
   "version": "3.11.3"
  }
 },
 "nbformat": 4,
 "nbformat_minor": 5
}
